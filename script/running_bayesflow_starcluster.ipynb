{
 "cells": [
  {
   "cell_type": "markdown",
   "metadata": {},
   "source": [
    "#Running simple example through EC2"
   ]
  },
  {
   "cell_type": "markdown",
   "metadata": {
    "collapsed": true
   },
   "source": [
    "#### start downloading linking_EC2\n",
    "\n",
    "Tutorial for running liknking_EC2 see:\n",
    "https://github.com/JonasWallin/linkingEC2/blob/master/script/running%20MPI4py.ipynb"
   ]
  },
  {
   "cell_type": "code",
   "execution_count": 1,
   "metadata": {
    "collapsed": false
   },
   "outputs": [
    {
     "name": "stdout",
     "output_type": "stream",
     "text": [
      "Collecting git+https://git@github.com/JonasWallin/linkingEC2\n",
      "  Cloning https://git@github.com/JonasWallin/linkingEC2 to /var/folders/ct/zpjk2t696k5bv03sqq9xrpd00000gn/T/pip-FTtSJW-build\n",
      "Requirement already up-to-date: boto in /Users/jonaswallin/anaconda/lib/python2.7/site-packages (from linkingEC2==0.1)\n",
      "Installing collected packages: linkingEC2\n",
      "  Found existing installation: linkingEC2 0.1\n",
      "    Uninstalling linkingEC2-0.1:\n",
      "      Successfully uninstalled linkingEC2-0.1\n",
      "  Running setup.py install for linkingEC2\n",
      "Successfully installed linkingEC2-0.1\n"
     ]
    }
   ],
   "source": [
    "%%bash\n",
    ". ~/.bashrc\n",
    "pip install  --upgrade git+https://git@github.com/JonasWallin/linkingEC2"
   ]
  },
  {
   "cell_type": "code",
   "execution_count": 23,
   "metadata": {
    "collapsed": false
   },
   "outputs": [],
   "source": [
    "from linkingEC2 import LinkingHandler\n",
    "from ConfigParser import ConfigParser\n",
    "\n",
    "config = ConfigParser()\n",
    "starfigconfig_folder = \"/Users/jonaswallin/.starcluster/\"\n",
    "config.read(starfigconfig_folder + \"config\")\n",
    "\n",
    "acess_key_id     = config.get('aws info', 'aws_access_key_id'    , 0)\n",
    "aws_secret_key   = config.get('aws info', 'aws_secret_access_key', 0)\n",
    "aws_region_name  = config.get('aws info', 'aws_region_name'      , 0)\n",
    "my_key_loc       = config.get('key mykeyABC', 'key_location',0)\n",
    "\n",
    "\n",
    "linker = LinkingHandler(aws_secret_access_key = aws_secret_key,\n",
    "                        aws_access_key_id     = acess_key_id,\n",
    "                        aws_region_name       = aws_region_name,\n",
    "                        key_location          = my_key_loc,\n",
    "                        key_name              = 'mykeyABC' )"
   ]
  },
  {
   "cell_type": "markdown",
   "metadata": {},
   "source": [
    "##### start the actual cluster"
   ]
  },
  {
   "cell_type": "code",
   "execution_count": 24,
   "metadata": {
    "collapsed": false,
    "scrolled": true
   },
   "outputs": [
    {
     "name": "stdout",
     "output_type": "stream",
     "text": [
      "waiting for instances 0  to be running: \n",
      "******\n",
      "\n",
      "checking if ssh into node001 works:\n",
      "**\n",
      "collecting node001 number of processes:done\n",
      "copying ~/.ssh/mykeyABC.rsa to external ~/.ssh/id_rsa\n",
      "copying files to node001 done\n",
      "disable StrictHostKeyChecking  in node001:appending to ~/nodefile in node001 done\n",
      "appending to /etc/hosts in node001 done\n",
      "ssh  -i ~/.ssh/mykeyABC.rsa -o 'StrictHostKeyChecking no'  ubuntu@ec2-52-0-110-236.compute-1.amazonaws.com\n"
     ]
    }
   ],
   "source": [
    "\n",
    "linker.start_cluster('ami-d05e75b8', 't2.micro', ['linking_EC2'],1)\n",
    "print( linker.get_ssh_login() )\n",
    "\n"
   ]
  },
  {
   "cell_type": "code",
   "execution_count": 25,
   "metadata": {
    "collapsed": false
   },
   "outputs": [
    {
     "name": "stdout",
     "output_type": "stream",
     "text": [
      "sshing in: gpg --keyserver pgpkeys.mit.edu --recv-key 51716619E084DAB9 :\n",
      "sshing in: gpg -a --export 51716619E084DAB9 | sudo apt-key add - :\n",
      "sshing in: sudo add-apt-repository \"deb http://cran.rstudio.com/bin/linux/ubuntu trusty/\" :\n",
      "update apt-get for node001 done\n",
      "upgrade apt-get for node001 done\n",
      "installing the packages :  libatlas3-base libatlas-base-dev python-dev openmpi-bin libopenmpi-dev python-numpy python-sklearn python-matplotlib git python-scipy r-base r-base-core\n",
      "installing package for node001 done\n",
      "sshing in: sudo /bin/dd if=/dev/zero of=/var/swap.1 bs=1M count=1024 :\n",
      "sshing in: sudo /sbin/mkswap /var/swap.1 :\n",
      "sshing in: sudo /sbin/swapon /var/swap.1 :\n",
      "installing the packages : python-pip\n",
      "installing package for node001 done\n",
      "installing the packages : -U scipy\n",
      "installing package for node001 done\n",
      "sshing in: sudo swapoff /var/swap.1 :\n",
      "sshing in: sudo sudo rm /var/swap.1 :\n",
      "installing the packages : cython mpi4py simplejsonrpy2\n",
      "installing package for node001 failed:\n",
      "\n",
      "ssh     -i ~/.ssh/mykeyABC.rsa -o \"StrictHostKeyChecking no\" ubuntu@ec2-52-0-110-236.compute-1.amazonaws.com \"sudo pip install cython mpi4py simplejsonrpy2\" \n",
      "\n",
      "\n",
      "installing the packages : git+https://git@github.com/JonasWallin/BayesFlow\n",
      "installing package for node001 failed:\n",
      "\n",
      "ssh     -i ~/.ssh/mykeyABC.rsa -o \"StrictHostKeyChecking no\" ubuntu@ec2-52-0-110-236.compute-1.amazonaws.com \"sudo pip install git+https://git@github.com/JonasWallin/BayesFlow\" \n",
      "\n",
      "\n"
     ]
    },
    {
     "data": {
      "text/plain": [
       "0"
      ]
     },
     "execution_count": 25,
     "metadata": {},
     "output_type": "execute_result"
    }
   ],
   "source": [
    "PACKAGES_APT = [' libatlas3-base',\n",
    "                'libatlas-base-dev',\n",
    "                'python-dev', \n",
    "                'openmpi-bin', \n",
    "                'libopenmpi-dev', \n",
    "                'python-numpy',\n",
    "                'python-sklearn',\n",
    "               'python-matplotlib',\n",
    "               'git',\n",
    "                'python-scipy',\n",
    "               'r-base',\n",
    "               'r-base-core']\n",
    "PACKAGES_PIP = ['cython',\n",
    "                'mpi4py',\n",
    "                'simplejson',\n",
    "               'rpy2']\n",
    "\n",
    "#Adding later version of R\n",
    "#http://philipp-burckhardt.com/2014/05/25/installing-r-rstudio-on-ubuntu/\n",
    "command = 'sudo add-apt-repository \"deb http://cran.rstudio.com/bin/linux/ubuntu trusty/\"'\n",
    "linker.send_command_ssh(command = 'gpg --keyserver pgpkeys.mit.edu --recv-key 51716619E084DAB9')\n",
    "linker.send_command_ssh(command = 'gpg -a --export 51716619E084DAB9 | sudo apt-key add -')\n",
    "linker.send_command_ssh(command = command)\n",
    "\n",
    "\n",
    "\n",
    "linker.apt_install(PACKAGES_APT)\n",
    "\n",
    "#problem with memory installing scipy:\n",
    "#http://naokiwatanabe.blogspot.se/2014/12/install-numpy-schipy-matplotlib-and-etc.html\n",
    "linker.send_command_ssh(command = 'sudo /bin/dd if=/dev/zero of=/var/swap.1 bs=1M count=1024')\n",
    "linker.send_command_ssh(command = 'sudo /sbin/mkswap /var/swap.1')\n",
    "linker.send_command_ssh(command = 'sudo /sbin/swapon /var/swap.1')\n",
    "linker.pip_install('-U scipy')\n",
    "\n",
    "linker.send_command_ssh(command = 'sudo swapoff /var/swap.1')\n",
    "linker.send_command_ssh(command = 'sudo sudo rm /var/swap.1')\n",
    "\n",
    "\n",
    "\n",
    "linker.pip_install(PACKAGES_PIP)\n",
    "linker.pip_install(['git+https://git@github.com/JonasWallin/BayesFlow'])\n",
    "import os\n",
    "os.system('say \"your packages is downloaded\"')"
   ]
  },
  {
   "cell_type": "code",
   "execution_count": 29,
   "metadata": {
    "collapsed": false
   },
   "outputs": [
    {
     "name": "stdout",
     "output_type": "stream",
     "text": [
      "sshing in: wget https://raw.githubusercontent.com/JonasWallin/BayesFlow/master/examples/article1/article_simulatedata.py :\n",
      "sshing in: wget https://raw.githubusercontent.com/JonasWallin/BayesFlow/master/examples/article1/article_estimate_largerdata1_mpi.py :\n"
     ]
    },
    {
     "data": {
      "text/plain": [
       "0"
      ]
     },
     "execution_count": 29,
     "metadata": {},
     "output_type": "execute_result"
    }
   ],
   "source": [
    "linker.send_command_ssh( command = 'wget https://raw.githubusercontent.com/JonasWallin/BayesFlow/master/examples/article1/article_simulatedata.py')\n",
    "linker.send_command_ssh( command = 'wget https://raw.githubusercontent.com/JonasWallin/BayesFlow/master/examples/article1/article_estimate_largerdata1_mpi.py')"
   ]
  },
  {
   "cell_type": "markdown",
   "metadata": {},
   "source": [
    "# Terimante the cluster:"
   ]
  },
  {
   "cell_type": "code",
   "execution_count": 19,
   "metadata": {
    "collapsed": true
   },
   "outputs": [],
   "source": [
    "linker.terminate_cluster()"
   ]
  }
 ],
 "metadata": {
  "kernelspec": {
   "display_name": "Python 2",
   "language": "python",
   "name": "python2"
  },
  "language_info": {
   "codemirror_mode": {
    "name": "ipython",
    "version": 2
   },
   "file_extension": ".py",
   "mimetype": "text/x-python",
   "name": "python",
   "nbconvert_exporter": "python",
   "pygments_lexer": "ipython2",
   "version": "2.7.10"
  }
 },
 "nbformat": 4,
 "nbformat_minor": 0
}
