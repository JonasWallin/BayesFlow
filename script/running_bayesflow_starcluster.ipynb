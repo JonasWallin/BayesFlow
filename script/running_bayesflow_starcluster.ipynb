{
 "cells": [
  {
   "cell_type": "markdown",
   "metadata": {},
   "source": [
    "#Running simple example through EC2\n",
    "underconstruction currently only simulates data without doing anything "
   ]
  },
  {
   "cell_type": "markdown",
   "metadata": {
    "collapsed": true
   },
   "source": [
    "#### start downloading linking_EC2\n",
    "\n",
    "Tutorial for running liknking_EC2 see:\n",
    "https://github.com/JonasWallin/linkingEC2/blob/master/script/running%20MPI4py.ipynb"
   ]
  },
  {
   "cell_type": "code",
   "execution_count": 1,
   "metadata": {
    "collapsed": false
   },
   "outputs": [
    {
     "name": "stdout",
     "output_type": "stream",
     "text": [
      "Collecting git+https://git@github.com/JonasWallin/linkingEC2\n",
      "  Cloning https://git@github.com/JonasWallin/linkingEC2 to /var/folders/ct/zpjk2t696k5bv03sqq9xrpd00000gn/T/pip-OYsv6L-build\n",
      "Requirement already up-to-date: boto in /Users/jonaswallin/anaconda/lib/python2.7/site-packages (from linkingEC2==0.1)\n",
      "Installing collected packages: linkingEC2\n",
      "  Found existing installation: linkingEC2 0.1\n",
      "    Uninstalling linkingEC2-0.1:\n",
      "      Successfully uninstalled linkingEC2-0.1\n",
      "  Running setup.py install for linkingEC2\n",
      "Successfully installed linkingEC2-0.1\n"
     ]
    }
   ],
   "source": [
    "%%bash\n",
    ". ~/.bashrc\n",
    "pip install  --upgrade git+https://git@github.com/JonasWallin/linkingEC2"
   ]
  },
  {
   "cell_type": "code",
   "execution_count": 2,
   "metadata": {
    "collapsed": false
   },
   "outputs": [],
   "source": [
    "from linkingEC2 import LinkingHandler\n",
    "from ConfigParser import ConfigParser\n",
    "\n",
    "config = ConfigParser()\n",
    "starfigconfig_folder = \"/Users/jonaswallin/.starcluster/\"\n",
    "config.read(starfigconfig_folder + \"config\")\n",
    "\n",
    "acess_key_id     = config.get('aws info', 'aws_access_key_id'    , 0)\n",
    "aws_secret_key   = config.get('aws info', 'aws_secret_access_key', 0)\n",
    "aws_region_name  = config.get('aws info', 'aws_region_name'      , 0)\n",
    "my_key_loc       = config.get('key mykeyABC', 'key_location',0)\n",
    "\n",
    "\n",
    "linker = LinkingHandler(aws_secret_access_key = aws_secret_key,\n",
    "                        aws_access_key_id     = acess_key_id,\n",
    "                        aws_region_name       = aws_region_name,\n",
    "                        key_location          = my_key_loc,\n",
    "                        key_name              = 'mykeyABC' )"
   ]
  },
  {
   "cell_type": "markdown",
   "metadata": {},
   "source": [
    "##### start the actual cluster"
   ]
  },
  {
   "cell_type": "code",
   "execution_count": null,
   "metadata": {
    "collapsed": false,
    "scrolled": true
   },
   "outputs": [
    {
     "name": "stdout",
     "output_type": "stream",
     "text": [
      "waiting for instances 0  to be running: \n",
      "*****\n",
      "\n",
      "checking if ssh into node001 works:\n",
      "*"
     ]
    }
   ],
   "source": [
    "start_cluster= True\n",
    "n_nodes = 1\n",
    "type_node =  'c4.8xlarge'\n",
    "if start_cluster:\n",
    "    linker.start_cluster('ami-d05e75b8', type_node, ['linking_EC2'], n_nodes)\n",
    "else:\n",
    "    linker.connect_cluster()\n",
    "\n",
    "\n"
   ]
  },
  {
   "cell_type": "code",
   "execution_count": null,
   "metadata": {
    "collapsed": false
   },
   "outputs": [],
   "source": [
    "PACKAGES_APT = [' libatlas3-base',\n",
    "                'libatlas-base-dev',\n",
    "                'python-dev', \n",
    "                'openmpi-bin', \n",
    "                'libopenmpi-dev', \n",
    "                'python-numpy',\n",
    "                'python-sklearn',\n",
    "               'python-matplotlib',\n",
    "               'git',\n",
    "                'python-scipy',\n",
    "               'r-base',\n",
    "               'r-base-core']\n",
    "PACKAGES_PIP = ['cython',\n",
    "                'mpi4py',\n",
    "                'simplejson',\n",
    "               'rpy2']\n",
    "\n",
    "#Adding later version of R\n",
    "#http://philipp-burckhardt.com/2014/05/25/installing-r-rstudio-on-ubuntu/\n",
    "command = 'sudo add-apt-repository \"deb http://cran.rstudio.com/bin/linux/ubuntu trusty/\"'\n",
    "linker.send_command_ssh(command = 'gpg --keyserver pgpkeys.mit.edu --recv-key 51716619E084DAB9')\n",
    "linker.send_command_ssh(command = 'gpg -a --export 51716619E084DAB9 | sudo apt-key add -')\n",
    "linker.send_command_ssh(command = command)\n",
    "\n",
    "\n",
    "\n",
    "linker.apt_install(PACKAGES_APT)\n",
    "\n",
    "#problem with memory installing scipy:\n",
    "#http://naokiwatanabe.blogspot.se/2014/12/install-numpy-schipy-matplotlib-and-etc.html\n",
    "linker.send_command_ssh(command = 'sudo /bin/dd if=/dev/zero of=/var/swap.1 bs=1M count=1024')\n",
    "linker.send_command_ssh(command = 'sudo /sbin/mkswap /var/swap.1')\n",
    "linker.send_command_ssh(command = 'sudo /sbin/swapon /var/swap.1')\n",
    "linker.pip_install('-U scipy')\n",
    "\n",
    "linker.send_command_ssh(command = 'sudo swapoff /var/swap.1')\n",
    "linker.send_command_ssh(command = 'sudo sudo rm /var/swap.1')\n",
    "\n",
    "\n",
    "\n",
    "linker.pip_install(PACKAGES_PIP)\n",
    "linker.pip_install(['git+https://git@github.com/JonasWallin/BayesFlow'])\n",
    "import os\n",
    "os.system('say \"your packages is downloaded\"')"
   ]
  },
  {
   "cell_type": "code",
   "execution_count": null,
   "metadata": {
    "collapsed": false
   },
   "outputs": [],
   "source": [
    "linker.send_command_ssh( command = 'wget https://raw.githubusercontent.com/JonasWallin/BayesFlow/master/examples/article1/covs_.npy')\n",
    "linker.send_command_ssh( command = 'wget https://raw.githubusercontent.com/JonasWallin/BayesFlow/master/examples/article1/means_.npy')\n",
    "linker.send_command_ssh( command = 'wget https://raw.githubusercontent.com/JonasWallin/BayesFlow/master/examples/article1/weights_.npy')\n",
    "linker.send_command_ssh( command = 'wget https://raw.githubusercontent.com/JonasWallin/BayesFlow/master/examples/article1/article_util.py')\n",
    "linker.send_command_ssh( command = 'wget https://raw.githubusercontent.com/JonasWallin/BayesFlow/master/examples/article1/article_simulatedata.py')\n",
    "linker.send_command_ssh( command = 'wget https://raw.githubusercontent.com/JonasWallin/BayesFlow/master/examples/article1/article_estimate_largerdata1_mpi.py')"
   ]
  },
  {
   "cell_type": "code",
   "execution_count": null,
   "metadata": {
    "collapsed": false
   },
   "outputs": [],
   "source": [
    "print( linker.get_ssh_login() )"
   ]
  },
  {
   "cell_type": "markdown",
   "metadata": {},
   "source": [
    "##login to main node and run:\n",
    "```bash\n",
    "mpirun -hostfile nodefile -n 2 python article_estimate_largerdata1_mpi.py \n",
    "```"
   ]
  },
  {
   "cell_type": "code",
   "execution_count": 16,
   "metadata": {
    "collapsed": false
   },
   "outputs": [
    {
     "name": "stdout",
     "output_type": "stream",
     "text": [
      "node001, sshing in  mpirun -hostfile nodefile -n 12 python article_estimate_largerdata1_mpi.py \n",
      "node001 done\n",
      "copying simulation_result.npy to local computer .\n",
      "copying files to node001 done\n",
      "copying sim_data.npy to local computer .\n",
      "copying files to node001 done\n"
     ]
    }
   ],
   "source": [
    "import numpy as np\n",
    "tot_process = np.sum([node['n_process'] for node in linker.nodes])\n",
    "command = 'mpirun -hostfile nodefile -n %d python article_estimate_largerdata1_mpi.py'%(tot_process)\n",
    "linker.send_command_ssh(nodes = 0, command = command)\n",
    "linker.copy_files_from_node('simulation_result.npy')\n",
    "linker.copy_files_from_node('sim_data.npy')"
   ]
  },
  {
   "cell_type": "markdown",
   "metadata": {},
   "source": [
    "# Terimante the cluster:"
   ]
  },
  {
   "cell_type": "code",
   "execution_count": 17,
   "metadata": {
    "collapsed": true
   },
   "outputs": [],
   "source": [
    "linker.terminate_cluster()"
   ]
  },
  {
   "cell_type": "code",
   "execution_count": 9,
   "metadata": {
    "collapsed": false
   },
   "outputs": [
    {
     "name": "stdout",
     "output_type": "stream",
     "text": [
      "copying simulation_result.npy to local computer .\n",
      "copying files to node001 done\n"
     ]
    }
   ],
   "source": []
  },
  {
   "cell_type": "code",
   "execution_count": null,
   "metadata": {
    "collapsed": true
   },
   "outputs": [],
   "source": []
  }
 ],
 "metadata": {
  "kernelspec": {
   "display_name": "Python 2",
   "language": "python",
   "name": "python2"
  },
  "language_info": {
   "codemirror_mode": {
    "name": "ipython",
    "version": 2
   },
   "file_extension": ".py",
   "mimetype": "text/x-python",
   "name": "python",
   "nbconvert_exporter": "python",
   "pygments_lexer": "ipython2",
   "version": "2.7.10"
  }
 },
 "nbformat": 4,
 "nbformat_minor": 0
}
