{
 "cells": [
  {
   "cell_type": "markdown",
   "metadata": {},
   "source": [
    "#Running simple example through EC2"
   ]
  },
  {
   "cell_type": "markdown",
   "metadata": {
    "collapsed": true
   },
   "source": [
    "#### start downloading linking_EC2\n",
    "\n",
    "Tutorial for running liknking_EC2 see:\n",
    "https://github.com/JonasWallin/linkingEC2/blob/master/script/running%20MPI4py.ipynb"
   ]
  },
  {
   "cell_type": "code",
   "execution_count": 1,
   "metadata": {
    "collapsed": false
   },
   "outputs": [
    {
     "name": "stdout",
     "output_type": "stream",
     "text": [
      "Collecting git+https://git@github.com/JonasWallin/linkingEC2\n",
      "  Cloning https://git@github.com/JonasWallin/linkingEC2 to /var/folders/ct/zpjk2t696k5bv03sqq9xrpd00000gn/T/pip-FTtSJW-build\n",
      "Requirement already up-to-date: boto in /Users/jonaswallin/anaconda/lib/python2.7/site-packages (from linkingEC2==0.1)\n",
      "Installing collected packages: linkingEC2\n",
      "  Found existing installation: linkingEC2 0.1\n",
      "    Uninstalling linkingEC2-0.1:\n",
      "      Successfully uninstalled linkingEC2-0.1\n",
      "  Running setup.py install for linkingEC2\n",
      "Successfully installed linkingEC2-0.1\n"
     ]
    }
   ],
   "source": [
    "%%bash\n",
    ". ~/.bashrc\n",
    "pip install  --upgrade git+https://git@github.com/JonasWallin/linkingEC2"
   ]
  },
  {
   "cell_type": "code",
   "execution_count": 1,
   "metadata": {
    "collapsed": false
   },
   "outputs": [],
   "source": [
    "from linkingEC2 import LinkingHandler\n",
    "from ConfigParser import ConfigParser\n",
    "\n",
    "config = ConfigParser()\n",
    "starfigconfig_folder = \"/Users/jonaswallin/.starcluster/\"\n",
    "config.read(starfigconfig_folder + \"config\")\n",
    "\n",
    "acess_key_id     = config.get('aws info', 'aws_access_key_id'    , 0)\n",
    "aws_secret_key   = config.get('aws info', 'aws_secret_access_key', 0)\n",
    "aws_region_name  = config.get('aws info', 'aws_region_name'      , 0)\n",
    "my_key_loc       = config.get('key mykeyABC', 'key_location',0)\n",
    "\n",
    "\n",
    "linker = LinkingHandler(aws_secret_access_key = aws_secret_key,\n",
    "                        aws_access_key_id     = acess_key_id,\n",
    "                        aws_region_name       = aws_region_name,\n",
    "                        key_location          = my_key_loc,\n",
    "                        key_name              = 'mykeyABC' )"
   ]
  },
  {
   "cell_type": "markdown",
   "metadata": {},
   "source": [
    "##### start the actual cluster"
   ]
  },
  {
   "cell_type": "code",
   "execution_count": 2,
   "metadata": {
    "collapsed": false,
    "scrolled": true
   },
   "outputs": [
    {
     "name": "stdout",
     "output_type": "stream",
     "text": [
      "waiting for instances 0  to be running: \n",
      "*****\n",
      "\n",
      "checking if ssh into node001 works:\n",
      "**\n",
      "collecting node001 number of processes:done\n",
      "copying ~/.ssh/mykeyABC.rsa to external ~/.ssh/id_rsa\n",
      "copying files to node001 done\n",
      "disable StrictHostKeyChecking  in node001:appending to ~/nodefile in node001 done\n",
      "appending to /etc/hosts in node001 done\n",
      "ssh  -i ~/.ssh/mykeyABC.rsa -o 'StrictHostKeyChecking no'  ubuntu@ec2-52-20-99-118.compute-1.amazonaws.com\n"
     ]
    }
   ],
   "source": [
    "\n",
    "linker.start_cluster('ami-d05e75b8', 't2.micro', ['linking_EC2'],1)\n",
    "print( linker.get_ssh_login() )\n",
    "\n"
   ]
  },
  {
   "cell_type": "code",
   "execution_count": 5,
   "metadata": {
    "collapsed": false
   },
   "outputs": [
    {
     "name": "stdout",
     "output_type": "stream",
     "text": [
      "sshing in: sudo swapoff /var/swap.1 :\n",
      "sshing in: sudo sudo rm /var/swap.1 :\n",
      "installing the packages : cython mpi4py simplejson\n",
      "installing package for node001 done\n",
      "installing the packages : git+https://git@github.com/JonasWallin/BayesFlow\n",
      "installing package for node001 done\n"
     ]
    },
    {
     "data": {
      "text/plain": [
       "0"
      ]
     },
     "execution_count": 5,
     "metadata": {},
     "output_type": "execute_result"
    }
   ],
   "source": [
    "PACKAGES_APT = [' libatlas3-base',\n",
    "                'libatlas-base-dev',\n",
    "                'python-dev', \n",
    "                'openmpi-bin', \n",
    "                'libopenmpi-dev', \n",
    "                'python-numpy',\n",
    "                'python-sklearn',\n",
    "               'python-matplotlib',\n",
    "               'git',\n",
    "                'python-scipy']\n",
    "PACKAGES_PIP = ['cython',\n",
    "                'mpi4py',\n",
    "                'simplejson']\n",
    "\n",
    "#Adding later version of R\n",
    "#linker.send_command_ssh(command = 'sudo gedit /etc/apt/sources.list')\n",
    "#append line deb http://cran.rstudio.com/bin/linux/ubuntu trusty/\n",
    "#gpg --keyserver keyserver.ubuntu.com --recv-key E084DAB9\n",
    "#gpg -a --export E084DAB9 | sudo apt-key add -\n",
    "\n",
    "\n",
    "\n",
    "linker.apt_install(PACKAGES_APT)\n",
    "\n",
    "#problem with memory installing scipy:\n",
    "#http://naokiwatanabe.blogspot.se/2014/12/install-numpy-schipy-matplotlib-and-etc.html\n",
    "linker.send_command_ssh(command = 'sudo /bin/dd if=/dev/zero of=/var/swap.1 bs=1M count=1024')\n",
    "linker.send_command_ssh(command = 'sudo /sbin/mkswap /var/swap.1')\n",
    "linker.send_command_ssh(command = 'sudo /sbin/swapon /var/swap.1')\n",
    "linker.pip_install('-U scipy')\n",
    "\n",
    "linker.send_command_ssh(command = 'sudo swapoff /var/swap.1')\n",
    "linker.send_command_ssh(command = 'sudo sudo rm /var/swap.1')\n",
    "\n",
    "\n",
    "\n",
    "linker.pip_install(PACKAGES_PIP)\n",
    "linker.pip_install(['git+https://git@github.com/JonasWallin/BayesFlow'])\n",
    "import os\n",
    "os.system('say \"your packages is downloaded\"')"
   ]
  },
  {
   "cell_type": "markdown",
   "metadata": {},
   "source": [
    "# Terimante the cluster:"
   ]
  },
  {
   "cell_type": "code",
   "execution_count": 6,
   "metadata": {
    "collapsed": true
   },
   "outputs": [],
   "source": [
    "linker.terminate_cluster()"
   ]
  },
  {
   "cell_type": "code",
   "execution_count": null,
   "metadata": {
    "collapsed": true
   },
   "outputs": [],
   "source": []
  }
 ],
 "metadata": {
  "kernelspec": {
   "display_name": "Python 2",
   "language": "python",
   "name": "python2"
  },
  "language_info": {
   "codemirror_mode": {
    "name": "ipython",
    "version": 2
   },
   "file_extension": ".py",
   "mimetype": "text/x-python",
   "name": "python",
   "nbconvert_exporter": "python",
   "pygments_lexer": "ipython2",
   "version": "2.7.10"
  }
 },
 "nbformat": 4,
 "nbformat_minor": 0
}
