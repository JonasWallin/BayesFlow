{
 "cells": [
  {
   "cell_type": "markdown",
   "metadata": {},
   "source": [
    "#Running simple example through EC2"
   ]
  },
  {
   "cell_type": "markdown",
   "metadata": {
    "collapsed": true
   },
   "source": [
    "#### start downloading linking_EC2\n",
    "\n",
    "Tutorial for running liknking_EC2 see:\n",
    "https://github.com/JonasWallin/linkingEC2/blob/master/script/running%20MPI4py.ipynb"
   ]
  },
  {
   "cell_type": "code",
   "execution_count": 1,
   "metadata": {
    "collapsed": false
   },
   "outputs": [
    {
     "name": "stdout",
     "output_type": "stream",
     "text": [
      "Collecting git+https://git@github.com/JonasWallin/linkingEC2\n",
      "  Cloning https://git@github.com/JonasWallin/linkingEC2 to /var/folders/ct/zpjk2t696k5bv03sqq9xrpd00000gn/T/pip-pXLfWY-build\n",
      "Requirement already up-to-date: boto in /Users/jonaswallin/anaconda/lib/python2.7/site-packages (from linkingEC2==0.1)\n",
      "Installing collected packages: linkingEC2\n",
      "  Found existing installation: linkingEC2 0.1\n",
      "    Uninstalling linkingEC2-0.1:\n",
      "      Successfully uninstalled linkingEC2-0.1\n",
      "  Running setup.py install for linkingEC2\n",
      "Successfully installed linkingEC2-0.1\n"
     ]
    }
   ],
   "source": [
    "%%bash\n",
    ". ~/.bashrc\n",
    "pip install  --upgrade git+https://git@github.com/JonasWallin/linkingEC2"
   ]
  },
  {
   "cell_type": "code",
   "execution_count": 2,
   "metadata": {
    "collapsed": false
   },
   "outputs": [],
   "source": [
    "from linkingEC2 import LinkingHandler\n",
    "from ConfigParser import ConfigParser\n",
    "\n",
    "config = ConfigParser()\n",
    "starfigconfig_folder = \"/Users/jonaswallin/.starcluster/\"\n",
    "config.read(starfigconfig_folder + \"config\")\n",
    "\n",
    "acess_key_id     = config.get('aws info', 'aws_access_key_id'    , 0)\n",
    "aws_secret_key   = config.get('aws info', 'aws_secret_access_key', 0)\n",
    "aws_region_name  = config.get('aws info', 'aws_region_name'      , 0)\n",
    "my_key_loc       = config.get('key mykeyABC', 'key_location',0)\n",
    "\n",
    "\n",
    "linker = LinkingHandler(aws_secret_access_key = aws_secret_key,\n",
    "                        aws_access_key_id     = acess_key_id,\n",
    "                        aws_region_name       = aws_region_name,\n",
    "                        key_location          = my_key_loc,\n",
    "                        key_name              = 'mykeyABC' )"
   ]
  },
  {
   "cell_type": "markdown",
   "metadata": {},
   "source": [
    "##### start the actual cluster"
   ]
  },
  {
   "cell_type": "code",
   "execution_count": 3,
   "metadata": {
    "collapsed": false,
    "scrolled": true
   },
   "outputs": [
    {
     "ename": "AttributeError",
     "evalue": "'SpotInstanceRequest' object has no attribute 'instances'",
     "output_type": "error",
     "traceback": [
      "\u001b[0;31m---------------------------------------------------------------------------\u001b[0m",
      "\u001b[0;31mAttributeError\u001b[0m                            Traceback (most recent call last)",
      "\u001b[0;32m<ipython-input-3-7da223fc27d2>\u001b[0m in \u001b[0;36m<module>\u001b[0;34m()\u001b[0m\n\u001b[1;32m      4\u001b[0m \u001b[0mtype_node\u001b[0m \u001b[0;34m=\u001b[0m  \u001b[0;34m'c4.8xlarge'\u001b[0m\u001b[0;34m\u001b[0m\u001b[0m\n\u001b[1;32m      5\u001b[0m \u001b[0;32mif\u001b[0m \u001b[0mspot_cluster\u001b[0m\u001b[0;34m:\u001b[0m\u001b[0;34m\u001b[0m\u001b[0m\n\u001b[0;32m----> 6\u001b[0;31m     \u001b[0mlinker\u001b[0m\u001b[0;34m.\u001b[0m\u001b[0mconnect_spot_instance\u001b[0m\u001b[0;34m(\u001b[0m\u001b[0;34m)\u001b[0m\u001b[0;34m\u001b[0m\u001b[0m\n\u001b[0m\u001b[1;32m      7\u001b[0m \u001b[0;32melif\u001b[0m \u001b[0mstart_cluster\u001b[0m\u001b[0;34m:\u001b[0m\u001b[0;34m\u001b[0m\u001b[0m\n\u001b[1;32m      8\u001b[0m     \u001b[0mlinker\u001b[0m\u001b[0;34m.\u001b[0m\u001b[0mstart_cluster\u001b[0m\u001b[0;34m(\u001b[0m\u001b[0;34m'ami-d05e75b8'\u001b[0m\u001b[0;34m,\u001b[0m \u001b[0mtype_node\u001b[0m\u001b[0;34m,\u001b[0m \u001b[0;34m[\u001b[0m\u001b[0;34m'linking_EC2'\u001b[0m\u001b[0;34m]\u001b[0m\u001b[0;34m,\u001b[0m \u001b[0mn_nodes\u001b[0m\u001b[0;34m)\u001b[0m\u001b[0;34m\u001b[0m\u001b[0m\n",
      "\u001b[0;32m/Users/jonaswallin/anaconda/lib/python2.7/site-packages/linkingEC2/linkingEC2class.pyc\u001b[0m in \u001b[0;36mconnect_spot_instance\u001b[0;34m(self, extra_build)\u001b[0m\n\u001b[1;32m     89\u001b[0m \u001b[0;34m\u001b[0m\u001b[0m\n\u001b[1;32m     90\u001b[0m \u001b[0;34m\u001b[0m\u001b[0m\n\u001b[0;32m---> 91\u001b[0;31m                 \u001b[0mself\u001b[0m\u001b[0;34m.\u001b[0m\u001b[0mnodes\u001b[0m \u001b[0;34m=\u001b[0m \u001b[0mget_dns_name\u001b[0m\u001b[0;34m(\u001b[0m\u001b[0mself\u001b[0m\u001b[0;34m.\u001b[0m\u001b[0mreservation\u001b[0m\u001b[0;34m,\u001b[0m \u001b[0mself\u001b[0m\u001b[0;34m.\u001b[0m\u001b[0mconn\u001b[0m\u001b[0;34m,\u001b[0m \u001b[0msilent\u001b[0m \u001b[0;34m=\u001b[0m \u001b[0mself\u001b[0m\u001b[0;34m.\u001b[0m\u001b[0msilent\u001b[0m\u001b[0;34m)\u001b[0m\u001b[0;34m\u001b[0m\u001b[0m\n\u001b[0m\u001b[1;32m     92\u001b[0m \u001b[0;34m\u001b[0m\u001b[0m\n\u001b[1;32m     93\u001b[0m                 \u001b[0;32mif\u001b[0m \u001b[0mextra_build\u001b[0m\u001b[0;34m:\u001b[0m\u001b[0;34m\u001b[0m\u001b[0m\n",
      "\u001b[0;32m/Users/jonaswallin/anaconda/lib/python2.7/site-packages/linkingEC2/linkingEC2.pyc\u001b[0m in \u001b[0;36mget_dns_name\u001b[0;34m(reservations, conn, silent)\u001b[0m\n\u001b[1;32m     45\u001b[0m \t\"\"\"\n\u001b[1;32m     46\u001b[0m         \u001b[0mnodes\u001b[0m \u001b[0;34m=\u001b[0m \u001b[0;34m[\u001b[0m\u001b[0;34m]\u001b[0m\u001b[0;34m\u001b[0m\u001b[0m\n\u001b[0;32m---> 47\u001b[0;31m         \u001b[0;32mfor\u001b[0m \u001b[0mi\u001b[0m \u001b[0;32min\u001b[0m \u001b[0mrange\u001b[0m\u001b[0;34m(\u001b[0m\u001b[0mlen\u001b[0m\u001b[0;34m(\u001b[0m\u001b[0mreservations\u001b[0m\u001b[0;34m.\u001b[0m\u001b[0minstances\u001b[0m\u001b[0;34m)\u001b[0m\u001b[0;34m)\u001b[0m\u001b[0;34m:\u001b[0m\u001b[0;34m\u001b[0m\u001b[0m\n\u001b[0m\u001b[1;32m     48\u001b[0m                 \u001b[0minstance_id\u001b[0m  \u001b[0;34m=\u001b[0m \u001b[0mreservations\u001b[0m\u001b[0;34m.\u001b[0m\u001b[0minstances\u001b[0m\u001b[0;34m[\u001b[0m\u001b[0mi\u001b[0m\u001b[0;34m]\u001b[0m\u001b[0;34m.\u001b[0m\u001b[0mid\u001b[0m\u001b[0;34m\u001b[0m\u001b[0m\n\u001b[1;32m     49\u001b[0m                 \u001b[0mres\u001b[0m \u001b[0;34m=\u001b[0m \u001b[0mconn\u001b[0m\u001b[0;34m.\u001b[0m\u001b[0mget_all_instances\u001b[0m\u001b[0;34m(\u001b[0m\u001b[0minstance_ids\u001b[0m\u001b[0;34m=\u001b[0m\u001b[0;34m[\u001b[0m\u001b[0minstance_id\u001b[0m\u001b[0;34m]\u001b[0m\u001b[0;34m)\u001b[0m\u001b[0;34m\u001b[0m\u001b[0m\n",
      "\u001b[0;31mAttributeError\u001b[0m: 'SpotInstanceRequest' object has no attribute 'instances'"
     ]
    }
   ],
   "source": [
    "start_cluster= False\n",
    "spot_cluster = True\n",
    "n_nodes = 1\n",
    "type_node =  'c4.8xlarge'\n",
    "if spot_cluster:\n",
    "    linker.connect_spot_instance()\n",
    "elif start_cluster:\n",
    "    linker.start_cluster('ami-d05e75b8', type_node, ['linking_EC2'], n_nodes)\n",
    "else:\n",
    "    linker.connect_cluster()\n",
    "\n",
    "\n"
   ]
  },
  {
   "cell_type": "code",
   "execution_count": 10,
   "metadata": {
    "collapsed": false
   },
   "outputs": [
    {
     "name": "stdout",
     "output_type": "stream",
     "text": [
      "node001, sshing in  gpg --keyserver pgpkeys.mit.edu --recv-key 51716619E084DAB9 \n",
      "node001 done\n",
      "node002, sshing in  gpg --keyserver pgpkeys.mit.edu --recv-key 51716619E084DAB9 \n",
      "node002 done\n",
      "node003, sshing in  gpg --keyserver pgpkeys.mit.edu --recv-key 51716619E084DAB9 \n",
      "node003 done\n",
      "node004, sshing in  gpg --keyserver pgpkeys.mit.edu --recv-key 51716619E084DAB9 \n",
      "node004 done\n",
      "node001, sshing in  gpg -a --export 51716619E084DAB9 | sudo apt-key add - \n",
      "node001 done\n",
      "node002, sshing in  gpg -a --export 51716619E084DAB9 | sudo apt-key add - \n",
      "node002 done\n",
      "node003, sshing in  gpg -a --export 51716619E084DAB9 | sudo apt-key add - \n",
      "node003 done\n",
      "node004, sshing in  gpg -a --export 51716619E084DAB9 | sudo apt-key add - \n",
      "node004 done\n",
      "node001, sshing in  sudo add-apt-repository \"deb http://cran.rstudio.com/bin/linux/ubuntu trusty/\" \n",
      "node001 done\n",
      "node002, sshing in  sudo add-apt-repository \"deb http://cran.rstudio.com/bin/linux/ubuntu trusty/\" \n",
      "node002 done\n",
      "node003, sshing in  sudo add-apt-repository \"deb http://cran.rstudio.com/bin/linux/ubuntu trusty/\" \n",
      "node003 done\n",
      "node004, sshing in  sudo add-apt-repository \"deb http://cran.rstudio.com/bin/linux/ubuntu trusty/\" \n",
      "node004 done\n",
      "installing the packages :  libatlas3-base libatlas-base-dev python-dev openmpi-bin libopenmpi-dev python-numpy python-sklearn python-matplotlib git python-scipy r-base r-base-core\n",
      "\n",
      "update apt-get for node002\n",
      "update apt-get for node001\n",
      "update apt-get for node003\n",
      "update apt-get for node004\n",
      "node002 is done\n",
      "node001 is done\n",
      "node003 is done\n",
      "node004 is done\n",
      "upgrade apt-get for node002\n",
      "upgrade apt-get for node001\n",
      "upgrade apt-get for node003\n",
      "upgrade apt-get for node004\n",
      "node002 is done\n",
      "node001 is done\n",
      "node003 is done\n",
      "node004 is done\n",
      "node001, sshing in  sudo /bin/dd if=/dev/zero of=/var/swap.1 bs=1M count=1024 \n",
      "installing package for node002\n",
      "installing package for node001\n",
      "installing package for node003\n",
      "installing package for node004\n",
      "node002 is done\n",
      "node001 is done\n",
      "node003 is done\n",
      "node004 is done\n",
      "node001 done\n",
      "node002, sshing in  sudo /bin/dd if=/dev/zero of=/var/swap.1 bs=1M count=1024 \n",
      "node002 done\n",
      "node003, sshing in  sudo /bin/dd if=/dev/zero of=/var/swap.1 bs=1M count=1024 \n",
      "node003 done\n",
      "node004, sshing in  sudo /bin/dd if=/dev/zero of=/var/swap.1 bs=1M count=1024 \n",
      "node004 done\n",
      "node001, sshing in  sudo /sbin/mkswap /var/swap.1 \n",
      "node001 done\n",
      "node002, sshing in  sudo /sbin/mkswap /var/swap.1 \n",
      "node002 done\n",
      "node003, sshing in  sudo /sbin/mkswap /var/swap.1 \n",
      "node003 done\n",
      "node004, sshing in  sudo /sbin/mkswap /var/swap.1 \n",
      "node004 done\n",
      "node001, sshing in  sudo /sbin/swapon /var/swap.1 \n",
      "node001 done\n",
      "node002, sshing in  sudo /sbin/swapon /var/swap.1 \n",
      "node002 done\n",
      "node003, sshing in  sudo /sbin/swapon /var/swap.1 \n",
      "node003 done\n",
      "node004, sshing in  sudo /sbin/swapon /var/swap.1 \n",
      "node004 done\n",
      "installing the packages : python-pip\n",
      "\n",
      "installing the packages : -U scipy\n",
      "\n",
      "installing package for node001\n",
      "installing package for node002\n",
      "installing package for node003\n",
      "installing package for node004\n",
      "node001 is done\n",
      "node002 is done\n",
      "node003 is done\n",
      "node004 is done\n",
      "node001, sshing in  sudo swapoff /var/swap.1 \n",
      "installing package for node001\n",
      "installing package for node003\n",
      "installing package for node002\n",
      "installing package for node004\n",
      "node001 is done\n",
      "node003 is done\n",
      "node002 is done\n",
      "node004 is done\n",
      "node001 done\n",
      "node002, sshing in  sudo swapoff /var/swap.1 \n",
      "node002 done\n",
      "node003, sshing in  sudo swapoff /var/swap.1 \n",
      "node003 done\n",
      "node004, sshing in  sudo swapoff /var/swap.1 \n",
      "node004 done\n",
      "node001, sshing in  sudo sudo rm /var/swap.1 \n",
      "node001 done\n",
      "node002, sshing in  sudo sudo rm /var/swap.1 \n",
      "node002 done\n",
      "node003, sshing in  sudo sudo rm /var/swap.1 \n",
      "node003 done\n",
      "node004, sshing in  sudo sudo rm /var/swap.1 \n",
      "node004 done\n",
      "installing the packages : cython mpi4py simplejson rpy2\n",
      "\n",
      "installing the packages : git+https://git@github.com/JonasWallin/BayesFlow\n",
      "\n",
      "installing package for node002\n",
      "installing package for node001\n",
      "installing package for node003\n",
      "installing package for node004\n",
      "node002 is done\n",
      "node001 is done\n",
      "node003 is done\n",
      "node004 is done\n",
      "installing package for node001\n",
      "installing package for node002\n",
      "installing package for node003\n",
      "installing package for node004\n",
      "node001 is done\n",
      "node002 is done\n",
      "node003 is done\n",
      "node004 is done\n"
     ]
    },
    {
     "data": {
      "text/plain": [
       "0"
      ]
     },
     "execution_count": 10,
     "metadata": {},
     "output_type": "execute_result"
    }
   ],
   "source": [
    "PACKAGES_APT = [' libatlas3-base',\n",
    "                'libatlas-base-dev',\n",
    "                'python-dev', \n",
    "                'openmpi-bin', \n",
    "                'libopenmpi-dev', \n",
    "                'python-numpy',\n",
    "                'python-sklearn',\n",
    "               'python-matplotlib',\n",
    "               'git',\n",
    "                'python-scipy',\n",
    "               'r-base',\n",
    "               'r-base-core']\n",
    "PACKAGES_PIP = ['cython',\n",
    "                'mpi4py',\n",
    "                'simplejson',\n",
    "               'rpy2']\n",
    "\n",
    "#Adding later version of R\n",
    "#http://philipp-burckhardt.com/2014/05/25/installing-r-rstudio-on-ubuntu/\n",
    "command = 'sudo add-apt-repository \"deb http://cran.rstudio.com/bin/linux/ubuntu trusty/\"'\n",
    "linker.send_command_ssh(command = 'gpg --keyserver pgpkeys.mit.edu --recv-key 51716619E084DAB9')\n",
    "linker.send_command_ssh(command = 'gpg -a --export 51716619E084DAB9 | sudo apt-key add -')\n",
    "linker.send_command_ssh(command = command)\n",
    "\n",
    "\n",
    "\n",
    "linker.apt_install(PACKAGES_APT)\n",
    "\n",
    "#problem with memory installing scipy:\n",
    "#http://naokiwatanabe.blogspot.se/2014/12/install-numpy-schipy-matplotlib-and-etc.html\n",
    "linker.send_command_ssh(command = 'sudo /bin/dd if=/dev/zero of=/var/swap.1 bs=1M count=1024')\n",
    "linker.send_command_ssh(command = 'sudo /sbin/mkswap /var/swap.1')\n",
    "linker.send_command_ssh(command = 'sudo /sbin/swapon /var/swap.1')\n",
    "linker.pip_install('-U scipy')\n",
    "\n",
    "linker.send_command_ssh(command = 'sudo swapoff /var/swap.1')\n",
    "linker.send_command_ssh(command = 'sudo sudo rm /var/swap.1')\n",
    "\n",
    "\n",
    "\n",
    "linker.pip_install(PACKAGES_PIP)\n",
    "linker.pip_install(['git+https://git@github.com/JonasWallin/BayesFlow'])\n",
    "import os\n",
    "os.system('say \"your packages is downloaded\"')"
   ]
  },
  {
   "cell_type": "code",
   "execution_count": 11,
   "metadata": {
    "collapsed": false
   },
   "outputs": [
    {
     "name": "stdout",
     "output_type": "stream",
     "text": [
      "node001, sshing in  wget https://raw.githubusercontent.com/JonasWallin/BayesFlow/master/examples/article1/covs_.npy \n",
      "node001 done\n",
      "node002, sshing in  wget https://raw.githubusercontent.com/JonasWallin/BayesFlow/master/examples/article1/covs_.npy \n",
      "node002 done\n",
      "node003, sshing in  wget https://raw.githubusercontent.com/JonasWallin/BayesFlow/master/examples/article1/covs_.npy \n",
      "node003 done\n",
      "node004, sshing in  wget https://raw.githubusercontent.com/JonasWallin/BayesFlow/master/examples/article1/covs_.npy \n",
      "node004 done\n",
      "node001, sshing in  wget https://raw.githubusercontent.com/JonasWallin/BayesFlow/master/examples/article1/means_.npy \n",
      "node001 done\n",
      "node002, sshing in  wget https://raw.githubusercontent.com/JonasWallin/BayesFlow/master/examples/article1/means_.npy \n",
      "node002 done\n",
      "node003, sshing in  wget https://raw.githubusercontent.com/JonasWallin/BayesFlow/master/examples/article1/means_.npy \n",
      "node003 done\n",
      "node004, sshing in  wget https://raw.githubusercontent.com/JonasWallin/BayesFlow/master/examples/article1/means_.npy \n",
      "node004 done\n",
      "node001, sshing in  wget https://raw.githubusercontent.com/JonasWallin/BayesFlow/master/examples/article1/weights_.npy \n",
      "node001 done\n",
      "node002, sshing in  wget https://raw.githubusercontent.com/JonasWallin/BayesFlow/master/examples/article1/weights_.npy \n",
      "node002 done\n",
      "node003, sshing in  wget https://raw.githubusercontent.com/JonasWallin/BayesFlow/master/examples/article1/weights_.npy \n",
      "node003 done\n",
      "node004, sshing in  wget https://raw.githubusercontent.com/JonasWallin/BayesFlow/master/examples/article1/weights_.npy \n",
      "node004 done\n",
      "node001, sshing in  wget https://raw.githubusercontent.com/JonasWallin/BayesFlow/master/examples/article1/article_util.py \n",
      "node001 done\n",
      "node002, sshing in  wget https://raw.githubusercontent.com/JonasWallin/BayesFlow/master/examples/article1/article_util.py \n",
      "node002 done\n",
      "node003, sshing in  wget https://raw.githubusercontent.com/JonasWallin/BayesFlow/master/examples/article1/article_util.py \n",
      "node003 done\n",
      "node004, sshing in  wget https://raw.githubusercontent.com/JonasWallin/BayesFlow/master/examples/article1/article_util.py \n",
      "node004 done\n",
      "node001, sshing in  wget https://raw.githubusercontent.com/JonasWallin/BayesFlow/master/examples/article1/article_simulatedata.py \n",
      "node001 done\n",
      "node002, sshing in  wget https://raw.githubusercontent.com/JonasWallin/BayesFlow/master/examples/article1/article_simulatedata.py \n",
      "node002 done\n",
      "node003, sshing in  wget https://raw.githubusercontent.com/JonasWallin/BayesFlow/master/examples/article1/article_simulatedata.py \n",
      "node003 done\n",
      "node004, sshing in  wget https://raw.githubusercontent.com/JonasWallin/BayesFlow/master/examples/article1/article_simulatedata.py \n",
      "node004 done\n",
      "node001, sshing in  wget https://raw.githubusercontent.com/JonasWallin/BayesFlow/master/examples/article1/article_estimate_largerdata1_mpi.py \n",
      "node001 done\n",
      "node002, sshing in  wget https://raw.githubusercontent.com/JonasWallin/BayesFlow/master/examples/article1/article_estimate_largerdata1_mpi.py \n",
      "node002 done\n",
      "node003, sshing in  wget https://raw.githubusercontent.com/JonasWallin/BayesFlow/master/examples/article1/article_estimate_largerdata1_mpi.py \n",
      "node003 done\n",
      "node004, sshing in  wget https://raw.githubusercontent.com/JonasWallin/BayesFlow/master/examples/article1/article_estimate_largerdata1_mpi.py \n",
      "node004 done\n"
     ]
    },
    {
     "data": {
      "text/plain": [
       "0"
      ]
     },
     "execution_count": 11,
     "metadata": {},
     "output_type": "execute_result"
    }
   ],
   "source": [
    "#linker.send_command_ssh( command = 'rm ~/covs_.npy')\n",
    "#linker.send_command_ssh( command = 'rm ~/means_.npy')\n",
    "#linker.send_command_ssh( command = 'rm ~/weights_.npy')\n",
    "#linker.send_command_ssh( command = 'rm ~/article_util.py')\n",
    "#linker.send_command_ssh( command = 'rm ~/article_simulatedata.py')\n",
    "#linker.send_command_ssh( command = 'rm ~/article_estimate_largerdata1_mpi.py')\n",
    "linker.send_command_ssh( command = 'wget https://raw.githubusercontent.com/JonasWallin/BayesFlow/master/examples/article1/covs_.npy')\n",
    "linker.send_command_ssh( command = 'wget https://raw.githubusercontent.com/JonasWallin/BayesFlow/master/examples/article1/means_.npy')\n",
    "linker.send_command_ssh( command = 'wget https://raw.githubusercontent.com/JonasWallin/BayesFlow/master/examples/article1/weights_.npy')\n",
    "linker.send_command_ssh( command = 'wget https://raw.githubusercontent.com/JonasWallin/BayesFlow/master/examples/article1/article_util.py')\n",
    "linker.send_command_ssh( command = 'wget https://raw.githubusercontent.com/JonasWallin/BayesFlow/master/examples/article1/article_simulatedata.py')\n",
    "linker.send_command_ssh( command = 'wget https://raw.githubusercontent.com/JonasWallin/BayesFlow/master/examples/article1/article_estimate_largerdata1_mpi.py')"
   ]
  },
  {
   "cell_type": "code",
   "execution_count": 32,
   "metadata": {
    "collapsed": false
   },
   "outputs": [
    {
     "ename": "AttributeError",
     "evalue": "'list' object has no attribute 'instances'",
     "output_type": "error",
     "traceback": [
      "\u001b[0;31m---------------------------------------------------------------------------\u001b[0m",
      "\u001b[0;31mAttributeError\u001b[0m                            Traceback (most recent call last)",
      "\u001b[0;32m<ipython-input-32-96db7df1eaf1>\u001b[0m in \u001b[0;36m<module>\u001b[0;34m()\u001b[0m\n\u001b[0;32m----> 1\u001b[0;31m \u001b[0;32mprint\u001b[0m\u001b[0;34m(\u001b[0m \u001b[0mlinker\u001b[0m\u001b[0;34m.\u001b[0m\u001b[0mget_ssh_login\u001b[0m\u001b[0;34m(\u001b[0m\u001b[0;34m)\u001b[0m \u001b[0;34m)\u001b[0m\u001b[0;34m\u001b[0m\u001b[0m\n\u001b[0m",
      "\u001b[0;32m/Users/jonaswallin/anaconda/lib/python2.7/site-packages/linkingEC2/linkingEC2class.pyc\u001b[0m in \u001b[0;36mget_ssh_login\u001b[0;34m(self, node)\u001b[0m\n\u001b[1;32m    247\u001b[0m                         \u001b[0;32mreturn\u001b[0m\u001b[0;34m\u001b[0m\u001b[0m\n\u001b[1;32m    248\u001b[0m \u001b[0;34m\u001b[0m\u001b[0m\n\u001b[0;32m--> 249\u001b[0;31m                 \u001b[0;32mif\u001b[0m \u001b[0mnode\u001b[0m \u001b[0;34m<\u001b[0m \u001b[0;36m0\u001b[0m \u001b[0;32mor\u001b[0m \u001b[0mnode\u001b[0m \u001b[0;34m>=\u001b[0m \u001b[0mlen\u001b[0m\u001b[0;34m(\u001b[0m\u001b[0mself\u001b[0m\u001b[0;34m.\u001b[0m\u001b[0mreservation\u001b[0m\u001b[0;34m.\u001b[0m\u001b[0minstances\u001b[0m\u001b[0;34m)\u001b[0m\u001b[0;34m:\u001b[0m\u001b[0;34m\u001b[0m\u001b[0m\n\u001b[0m\u001b[1;32m    250\u001b[0m \t\t\tprint(\"node {number} does not exists choose between [{low} {high}]\".format(\n\u001b[1;32m    251\u001b[0m                                    \u001b[0mnumber\u001b[0m \u001b[0;34m=\u001b[0m \u001b[0mnode\u001b[0m\u001b[0;34m,\u001b[0m\u001b[0;34m\u001b[0m\u001b[0m\n",
      "\u001b[0;31mAttributeError\u001b[0m: 'list' object has no attribute 'instances'"
     ]
    }
   ],
   "source": [
    "print( linker.get_ssh_login() )"
   ]
  },
  {
   "cell_type": "markdown",
   "metadata": {},
   "source": [
    "##login to main node and run:\n",
    "```bash\n",
    "mpirun -hostfile nodefile -n 2 python article_estimate_largerdata1_mpi.py \n",
    "```"
   ]
  },
  {
   "cell_type": "code",
   "execution_count": 13,
   "metadata": {
    "collapsed": false
   },
   "outputs": [
    {
     "name": "stdout",
     "output_type": "stream",
     "text": [
      "node001, sshing in  mpirun -hostfile nodefile -n 128 python article_estimate_largerdata1_mpi.py \n",
      "node001 done\n",
      "copying simulation_result.npy to local computer .\n",
      "copying files to node001 done\n",
      "copying mus_sim.npy to local computer .\n",
      "copying files to node001 done\n",
      "copying sim_data.npy to local computer .\n",
      "copying files to node001 done\n"
     ]
    }
   ],
   "source": [
    "import numpy as np\n",
    "tot_process = np.sum([node['n_process'] for node in linker.nodes])\n",
    "command = 'mpirun -hostfile nodefile -n %d python article_estimate_largerdata1_mpi.py'%(tot_process)\n",
    "linker.send_command_ssh(nodes = 0, command = command)\n",
    "linker.copy_files_from_node('simulation_result.npy')\n",
    "linker.copy_files_from_node('mus_sim.npy')\n",
    "linker.copy_files_from_node('sim_data.npy')"
   ]
  },
  {
   "cell_type": "markdown",
   "metadata": {},
   "source": [
    "# Terimante the cluster:"
   ]
  },
  {
   "cell_type": "code",
   "execution_count": 10,
   "metadata": {
    "collapsed": true
   },
   "outputs": [],
   "source": [
    "linker.terminate_cluster()"
   ]
  },
  {
   "cell_type": "code",
   "execution_count": 3,
   "metadata": {
    "collapsed": false
   },
   "outputs": [
    {
     "name": "stdout",
     "output_type": "stream",
     "text": [
      "[SpotInstanceRequest:sir-0243sbqw, SpotInstanceRequest:sir-0245snpl, SpotInstanceRequest:sir-02478em0, SpotInstanceRequest:sir-023ztzqh, SpotInstanceRequest:sir-024364vv, SpotInstanceRequest:sir-0244lqqq]\n"
     ]
    }
   ],
   "source": [
    "print(linker.conn.get_all_spot_instance_requests())"
   ]
  },
  {
   "cell_type": "code",
   "execution_count": 3,
   "metadata": {
    "collapsed": false
   },
   "outputs": [
    {
     "name": "stdout",
     "output_type": "stream",
     "text": [
      "[SpotInstanceRequest:sir-0241jc3q, SpotInstanceRequest:sir-0243z3ha, SpotInstanceRequest:sir-024666jf, SpotInstanceRequest:sir-0246xgte]\n",
      "i-fb694a2e\n",
      "i-756a49a0\n",
      "i-67694ab2\n",
      "i-81694a54\n"
     ]
    }
   ],
   "source": [
    "spot_instance = linker.conn.get_all_spot_instance_requests()\n",
    "nodes = []\n",
    "reservation = []\n",
    "print(spot_instance)\n",
    "for i,spot in enumerate(spot_instance):\n",
    "    print(spot.instance_id)\n",
    "    if spot.instance_id is not None:\n",
    "        res = linker.conn.get_all_instances(instance_ids=[spot.instance_id])\n",
    "        node_alias  = 'node{0:03d}'.format(i+1)\n",
    "        reservation.append(res[0].instances[0])\n",
    "        public_dns  = res[0].instances[0].public_dns_name\n",
    "        private_dns = res[0].instances[0].private_dns_name\n",
    "        private_ip_address = res[0].instances[0].private_ip_address\n",
    "        nodes.append({'name'  :node_alias,\n",
    "                     'public_dns' :public_dns,\n",
    "                      'private_dns':private_dns,\n",
    "                     'private_ip' :private_ip_address})"
   ]
  },
  {
   "cell_type": "code",
   "execution_count": 4,
   "metadata": {
    "collapsed": false
   },
   "outputs": [],
   "source": [
    "linker.reservation = reservation\n",
    "linker.nodes = nodes"
   ]
  },
  {
   "cell_type": "code",
   "execution_count": 5,
   "metadata": {
    "collapsed": false
   },
   "outputs": [
    {
     "name": "stdout",
     "output_type": "stream",
     "text": [
      "checking if ssh into node001 works:\n",
      "*\n",
      "checking if ssh into node002 works:\n",
      "*\n",
      "checking if ssh into node003 works:\n",
      "*\n",
      "checking if ssh into node004 works:\n",
      "*\n"
     ]
    }
   ],
   "source": [
    "linker.test_ssh_in()"
   ]
  },
  {
   "cell_type": "code",
   "execution_count": 6,
   "metadata": {
    "collapsed": false
   },
   "outputs": [
    {
     "name": "stdout",
     "output_type": "stream",
     "text": [
      "collecting node001 number of processes:done\n",
      "collecting node002 number of processes:done\n",
      "collecting node003 number of processes:done\n",
      "collecting node004 number of processes:done\n"
     ]
    }
   ],
   "source": [
    "from linkingEC2.linkingEC2 import get_number_processes\n",
    "get_number_processes(nodes  = linker.nodes,\n",
    "                    my_key =  linker.my_key_location,\n",
    "\t\t\t\t\t\t\t\t user   = linker.user,\n",
    "\t\t\t\t\t\t\t\t silent = linker.silent)"
   ]
  },
  {
   "cell_type": "code",
   "execution_count": 7,
   "metadata": {
    "collapsed": false
   },
   "outputs": [
    {
     "name": "stdout",
     "output_type": "stream",
     "text": [
      "copying ~/.ssh/mykeyABC.rsa to external ~/.ssh/id_rsa\n",
      "copying files to node001 done\n",
      "copying files to node002 done\n",
      "copying files to node003 done\n",
      "copying files to node004 done\n",
      "disable StrictHostKeyChecking  in node001:"
     ]
    }
   ],
   "source": [
    "\t\t\t#copying the ssh keys to nodes\n",
    "\t\n",
    "\t\t\tlinker.copy_files_to_nodes(file_name = linker.my_key_location, \n",
    "\t\t\t\t\t\t\t\t\t destination = '~/.ssh/id_rsa')\n",
    "\t\t\tlinker._ssh_disable_StrictHostKeyChecking()"
   ]
  },
  {
   "cell_type": "code",
   "execution_count": 8,
   "metadata": {
    "collapsed": false
   },
   "outputs": [
    {
     "name": "stdout",
     "output_type": "stream",
     "text": [
      "ssh  -i ~/.ssh/mykeyABC.rsa -o 'StrictHostKeyChecking no'  ubuntu@ec2-54-175-42-84.compute-1.amazonaws.com\n"
     ]
    }
   ],
   "source": [
    "print(\"ssh  -i {keyloc} -o 'StrictHostKeyChecking no'  ubuntu@{hostname}\".format(\n",
    "\t\tkeyloc = linker.my_key_location,\n",
    "\t\thostname =  linker.nodes[0]['public_dns']))"
   ]
  },
  {
   "cell_type": "code",
   "execution_count": 9,
   "metadata": {
    "collapsed": false
   },
   "outputs": [
    {
     "name": "stdout",
     "output_type": "stream",
     "text": [
      "appending to ~/nodefile in node001 done\n",
      "appending to /etc/hosts in node001 done\n"
     ]
    }
   ],
   "source": [
    "linker.setup_nodefile()"
   ]
  },
  {
   "cell_type": "code",
   "execution_count": 22,
   "metadata": {
    "collapsed": false
   },
   "outputs": [
    {
     "name": "stdout",
     "output_type": "stream",
     "text": [
      "node004, sshing in  rm ~/covs_.npy \n",
      "node004 done\n",
      "node005, sshing in  rm ~/covs_.npy \n",
      "node005 done\n",
      "node006, sshing in  rm ~/covs_.npy \n",
      "node006 done\n",
      "node004, sshing in  rm ~/means_.npy \n",
      "node004 done\n",
      "node005, sshing in  rm ~/means_.npy \n",
      "node005 done\n",
      "node006, sshing in  rm ~/means_.npy \n",
      "node006 done\n",
      "node004, sshing in  rm ~/weights_.npy \n",
      "node004 done\n",
      "node005, sshing in  rm ~/weights_.npy \n",
      "node005 done\n",
      "node006, sshing in  rm ~/weights_.npy \n",
      "node006 done\n"
     ]
    },
    {
     "data": {
      "text/plain": [
       "0"
      ]
     },
     "execution_count": 22,
     "metadata": {},
     "output_type": "execute_result"
    }
   ],
   "source": [
    "linker.send_command_ssh( command = 'rm ~/covs_.npy')\n",
    "linker.send_command_ssh( command = 'rm ~/means_.npy')\n",
    "linker.send_command_ssh( command = 'rm ~/weights_.npy')\n",
    "linker.send_command_ssh( command = 'rm ~/article_util.py')\n",
    "linker.send_command_ssh( command = 'rm ~/article_simulatedata.py')\n",
    "linker.send_command_ssh( command = 'rm ~/article_estimate_largerdata1_mpi.py')"
   ]
  },
  {
   "cell_type": "code",
   "execution_count": 23,
   "metadata": {
    "collapsed": false
   },
   "outputs": [
    {
     "name": "stdout",
     "output_type": "stream",
     "text": [
      "node004, sshing in  wget https://raw.githubusercontent.com/JonasWallin/BayesFlow/master/examples/article1/covs_.npy \n",
      "node004 done\n",
      "node005, sshing in  wget https://raw.githubusercontent.com/JonasWallin/BayesFlow/master/examples/article1/covs_.npy \n",
      "node005 done\n",
      "node006, sshing in  wget https://raw.githubusercontent.com/JonasWallin/BayesFlow/master/examples/article1/covs_.npy \n",
      "node006 done\n",
      "node004, sshing in  wget https://raw.githubusercontent.com/JonasWallin/BayesFlow/master/examples/article1/means_.npy \n",
      "node004 done\n",
      "node005, sshing in  wget https://raw.githubusercontent.com/JonasWallin/BayesFlow/master/examples/article1/means_.npy \n",
      "node005 done\n",
      "node006, sshing in  wget https://raw.githubusercontent.com/JonasWallin/BayesFlow/master/examples/article1/means_.npy \n",
      "node006 done\n",
      "node004, sshing in  wget https://raw.githubusercontent.com/JonasWallin/BayesFlow/master/examples/article1/weights_.npy \n",
      "node004 done\n",
      "node005, sshing in  wget https://raw.githubusercontent.com/JonasWallin/BayesFlow/master/examples/article1/weights_.npy \n",
      "node005 done\n",
      "node006, sshing in  wget https://raw.githubusercontent.com/JonasWallin/BayesFlow/master/examples/article1/weights_.npy \n",
      "node006 done\n"
     ]
    },
    {
     "data": {
      "text/plain": [
       "0"
      ]
     },
     "execution_count": 23,
     "metadata": {},
     "output_type": "execute_result"
    }
   ],
   "source": [
    "linker.send_command_ssh( command = 'wget https://raw.githubusercontent.com/JonasWallin/BayesFlow/master/examples/article1/covs_.npy')\n",
    "linker.send_command_ssh( command = 'wget https://raw.githubusercontent.com/JonasWallin/BayesFlow/master/examples/article1/means_.npy')\n",
    "linker.send_command_ssh( command = 'wget https://raw.githubusercontent.com/JonasWallin/BayesFlow/master/examples/article1/weights_.npy')"
   ]
  },
  {
   "cell_type": "code",
   "execution_count": 30,
   "metadata": {
    "collapsed": false
   },
   "outputs": [
    {
     "name": "stdout",
     "output_type": "stream",
     "text": [
      "copying simulation_result.npy to local computer .\n",
      "copying files to node004 done\n",
      "copying mus_sim.npy to local computer .\n",
      "copying files to node004 done\n"
     ]
    }
   ],
   "source": [
    "linker.copy_files_from_node('simulation_result.npy')\n",
    "linker.copy_files_from_node('mus_sim.npy')\n"
   ]
  },
  {
   "cell_type": "code",
   "execution_count": null,
   "metadata": {
    "collapsed": true
   },
   "outputs": [],
   "source": []
  }
 ],
 "metadata": {
  "kernelspec": {
   "display_name": "Python 2",
   "language": "python",
   "name": "python2"
  },
  "language_info": {
   "codemirror_mode": {
    "name": "ipython",
    "version": 2
   },
   "file_extension": ".py",
   "mimetype": "text/x-python",
   "name": "python",
   "nbconvert_exporter": "python",
   "pygments_lexer": "ipython2",
   "version": "2.7.10"
  }
 },
 "nbformat": 4,
 "nbformat_minor": 0
}
