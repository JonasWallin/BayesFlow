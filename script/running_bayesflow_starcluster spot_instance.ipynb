{
 "cells": [
  {
   "cell_type": "markdown",
   "metadata": {},
   "source": [
    "#Running simple example through EC2 using spot pricing\n",
    "To work one need to have spot instances running"
   ]
  },
  {
   "cell_type": "code",
   "execution_count": 1,
   "metadata": {
    "collapsed": false
   },
   "outputs": [
    {
     "name": "stdout",
     "output_type": "stream",
     "text": [
      "Collecting git+https://git@github.com/JonasWallin/linkingEC2\n",
      "  Cloning https://git@github.com/JonasWallin/linkingEC2 to /var/folders/ct/zpjk2t696k5bv03sqq9xrpd00000gn/T/pip-jV962d-build\n",
      "Requirement already up-to-date: boto in /Users/jonaswallin/anaconda/lib/python2.7/site-packages (from linkingEC2==0.1)\n",
      "Installing collected packages: linkingEC2\n",
      "  Found existing installation: linkingEC2 0.1\n",
      "    Uninstalling linkingEC2-0.1:\n",
      "      Successfully uninstalled linkingEC2-0.1\n",
      "  Running setup.py install for linkingEC2\n",
      "Successfully installed linkingEC2-0.1\n"
     ]
    }
   ],
   "source": [
    "%%bash\n",
    ". ~/.bashrc\n",
    "pip install  --upgrade git+https://git@github.com/JonasWallin/linkingEC2"
   ]
  },
  {
   "cell_type": "code",
   "execution_count": 2,
   "metadata": {
    "collapsed": true
   },
   "outputs": [],
   "source": [
    "from linkingEC2 import LinkingHandler\n",
    "from ConfigParser import ConfigParser\n",
    "\n",
    "config = ConfigParser()\n",
    "starfigconfig_folder = \"/Users/jonaswallin/.starcluster/\"\n",
    "config.read(starfigconfig_folder + \"config\")\n",
    "\n",
    "acess_key_id     = config.get('aws info', 'aws_access_key_id'    , 0)\n",
    "aws_secret_key   = config.get('aws info', 'aws_secret_access_key', 0)\n",
    "aws_region_name  = config.get('aws info', 'aws_region_name'      , 0)\n",
    "my_key_loc       = config.get('key mykeyABC', 'key_location',0)\n",
    "\n",
    "\n",
    "linker = LinkingHandler(aws_secret_access_key = aws_secret_key,\n",
    "                        aws_access_key_id     = acess_key_id,\n",
    "                        aws_region_name       = aws_region_name,\n",
    "                        key_location          = my_key_loc,\n",
    "                        key_name              = 'mykeyABC' )"
   ]
  },
  {
   "cell_type": "code",
   "execution_count": 3,
   "metadata": {
    "collapsed": false
   },
   "outputs": [
    {
     "name": "stdout",
     "output_type": "stream",
     "text": [
      "checking if ssh into node001 works:\n",
      "*\n",
      "checking if ssh into node002 works:\n",
      "*\n",
      "checking if ssh into node003 works:\n",
      "*\n",
      "checking if ssh into node004 works:\n",
      "*\n",
      "checking if ssh into node005 works:\n",
      "*\n",
      "checking if ssh into node006 works:\n",
      "*\n",
      "collecting node001 number of processes:done\n",
      "collecting node002 number of processes:done\n",
      "collecting node003 number of processes:done\n",
      "collecting node004 number of processes:done\n",
      "collecting node005 number of processes:done\n",
      "collecting node006 number of processes:done\n",
      "copying ~/.ssh/mykeyABC.rsa to external ~/.ssh/id_rsa\n",
      "copying files to node001 done\n",
      "copying files to node002 done\n",
      "copying files to node003 done\n",
      "copying files to node004 done\n",
      "copying files to node005 done\n",
      "copying files to node006 done\n",
      "disable StrictHostKeyChecking  in node001:appending to ~/nodefile in node001 done\n",
      "appending to /etc/hosts in node001 done\n"
     ]
    }
   ],
   "source": [
    "linker.connect_spot_instances()"
   ]
  },
  {
   "cell_type": "code",
   "execution_count": 4,
   "metadata": {
    "collapsed": false
   },
   "outputs": [
    {
     "name": "stdout",
     "output_type": "stream",
     "text": [
      "node001, sshing in  gpg --keyserver pgpkeys.mit.edu --recv-key 51716619E084DAB9 \n",
      "node001 done\n",
      "node002, sshing in  gpg --keyserver pgpkeys.mit.edu --recv-key 51716619E084DAB9 \n",
      "node002 done\n",
      "node003, sshing in  gpg --keyserver pgpkeys.mit.edu --recv-key 51716619E084DAB9 \n",
      "node003 done\n",
      "node004, sshing in  gpg --keyserver pgpkeys.mit.edu --recv-key 51716619E084DAB9 \n",
      "node004 done\n",
      "node005, sshing in  gpg --keyserver pgpkeys.mit.edu --recv-key 51716619E084DAB9 \n",
      "node005 done\n",
      "node006, sshing in  gpg --keyserver pgpkeys.mit.edu --recv-key 51716619E084DAB9 \n",
      "node006 done\n",
      "node001, sshing in  gpg -a --export 51716619E084DAB9 | sudo apt-key add - \n",
      "node001 done\n",
      "node002, sshing in  gpg -a --export 51716619E084DAB9 | sudo apt-key add - \n",
      "node002 done\n",
      "node003, sshing in  gpg -a --export 51716619E084DAB9 | sudo apt-key add - \n",
      "node003 done\n",
      "node004, sshing in  gpg -a --export 51716619E084DAB9 | sudo apt-key add - \n",
      "node004 done\n",
      "node005, sshing in  gpg -a --export 51716619E084DAB9 | sudo apt-key add - \n",
      "node005 done\n",
      "node006, sshing in  gpg -a --export 51716619E084DAB9 | sudo apt-key add - \n",
      "node006 done\n",
      "node001, sshing in  sudo add-apt-repository \"deb http://cran.rstudio.com/bin/linux/ubuntu trusty/\" \n",
      "node001 done\n",
      "node002, sshing in  sudo add-apt-repository \"deb http://cran.rstudio.com/bin/linux/ubuntu trusty/\" \n",
      "node002 done\n",
      "node003, sshing in  sudo add-apt-repository \"deb http://cran.rstudio.com/bin/linux/ubuntu trusty/\" \n",
      "node003 done\n",
      "node004, sshing in  sudo add-apt-repository \"deb http://cran.rstudio.com/bin/linux/ubuntu trusty/\" \n",
      "node004 done\n",
      "node005, sshing in  sudo add-apt-repository \"deb http://cran.rstudio.com/bin/linux/ubuntu trusty/\" \n",
      "node005 done\n",
      "node006, sshing in  sudo add-apt-repository \"deb http://cran.rstudio.com/bin/linux/ubuntu trusty/\" \n",
      "node006 done\n",
      "installing the packages :  libatlas3-base libatlas-base-dev python-dev openmpi-bin libopenmpi-dev python-numpy python-sklearn python-matplotlib git python-scipy r-base r-base-core\n",
      "\n",
      "update apt-get for node002\n",
      "update apt-get for node001\n",
      "update apt-get for node003\n",
      "update apt-get for node004\n",
      "update apt-get for node005\n",
      "update apt-get for node006\n",
      "node002 is done\n",
      "node001 is done\n",
      "node003 is done\n",
      "node004 is done\n",
      "node005 is done\n",
      "node006 is done\n",
      "upgrade apt-get for node002\n",
      "upgrade apt-get for node001\n",
      "upgrade apt-get for node003\n",
      "upgrade apt-get for node004\n",
      "upgrade apt-get for node005\n",
      "upgrade apt-get for node006\n",
      "node002 is done\n",
      "node001 is done\n",
      "node003 is done\n",
      "node004 is done\n",
      "node005 is done\n",
      "node006 is done\n",
      "node001, sshing in  sudo /bin/dd if=/dev/zero of=/var/swap.1 bs=1M count=1024 \n",
      "installing package for node002\n",
      "installing package for node001\n",
      "installing package for node003\n",
      "installing package for node004\n",
      "installing package for node005\n",
      "installing package for node006\n",
      "node002 is done\n",
      "node001 is done\n",
      "node003 is done\n",
      "node004 is done\n",
      "node005 is done\n",
      "node006 is done\n",
      "node001 done\n",
      "node002, sshing in  sudo /bin/dd if=/dev/zero of=/var/swap.1 bs=1M count=1024 \n",
      "node002 done\n",
      "node003, sshing in  sudo /bin/dd if=/dev/zero of=/var/swap.1 bs=1M count=1024 \n",
      "node003 done\n",
      "node004, sshing in  sudo /bin/dd if=/dev/zero of=/var/swap.1 bs=1M count=1024 \n",
      "node004 done\n",
      "node005, sshing in  sudo /bin/dd if=/dev/zero of=/var/swap.1 bs=1M count=1024 \n",
      "node005 done\n",
      "node006, sshing in  sudo /bin/dd if=/dev/zero of=/var/swap.1 bs=1M count=1024 \n",
      "node006 done\n",
      "node001, sshing in  sudo /sbin/mkswap /var/swap.1 \n",
      "node001 done\n",
      "node002, sshing in  sudo /sbin/mkswap /var/swap.1 \n",
      "node002 done\n",
      "node003, sshing in  sudo /sbin/mkswap /var/swap.1 \n",
      "node003 done\n",
      "node004, sshing in  sudo /sbin/mkswap /var/swap.1 \n",
      "node004 done\n",
      "node005, sshing in  sudo /sbin/mkswap /var/swap.1 \n",
      "node005 done\n",
      "node006, sshing in  sudo /sbin/mkswap /var/swap.1 \n",
      "node006 done\n",
      "node001, sshing in  sudo /sbin/swapon /var/swap.1 \n",
      "node001 done\n",
      "node002, sshing in  sudo /sbin/swapon /var/swap.1 \n",
      "node002 done\n",
      "node003, sshing in  sudo /sbin/swapon /var/swap.1 \n",
      "node003 done\n",
      "node004, sshing in  sudo /sbin/swapon /var/swap.1 \n",
      "node004 done\n",
      "node005, sshing in  sudo /sbin/swapon /var/swap.1 \n",
      "node005 done\n",
      "node006, sshing in  sudo /sbin/swapon /var/swap.1 \n",
      "node006 done\n",
      "installing the packages : python-pip\n",
      "\n",
      "installing the packages : -U scipy\n",
      "\n",
      "installing package for node002\n",
      "installing package for node001\n",
      "installing package for node003\n",
      "installing package for node004\n",
      "installing package for node005\n",
      "installing package for node006\n",
      "node002 is done\n",
      "node001 is done\n",
      "node003 is done\n",
      "node004 is done\n",
      "node005 is done\n",
      "node006 is done\n",
      "node001, sshing in  sudo swapoff /var/swap.1 \n",
      "installing package for node001\n",
      "installing package for node002\n",
      "installing package for node003\n",
      "installing package for node004\n",
      "installing package for node005\n",
      "installing package for node006\n",
      "node001 is done\n",
      "node002 is done\n",
      "node003 is done\n",
      "node004 is done\n",
      "node005 is done\n",
      "node006 is done\n",
      "node001 done\n",
      "node002, sshing in  sudo swapoff /var/swap.1 \n",
      "node002 done\n",
      "node003, sshing in  sudo swapoff /var/swap.1 \n",
      "node003 done\n",
      "node004, sshing in  sudo swapoff /var/swap.1 \n",
      "node004 done\n",
      "node005, sshing in  sudo swapoff /var/swap.1 \n",
      "node005 done\n",
      "node006, sshing in  sudo swapoff /var/swap.1 \n",
      "node006 done\n",
      "node001, sshing in  sudo sudo rm /var/swap.1 \n",
      "node001 done\n",
      "node002, sshing in  sudo sudo rm /var/swap.1 \n",
      "node002 done\n",
      "node003, sshing in  sudo sudo rm /var/swap.1 \n",
      "node003 done\n",
      "node004, sshing in  sudo sudo rm /var/swap.1 \n",
      "node004 done\n",
      "node005, sshing in  sudo sudo rm /var/swap.1 \n",
      "node005 done\n",
      "node006, sshing in  sudo sudo rm /var/swap.1 \n",
      "node006 done\n",
      "installing the packages : cython mpi4py simplejson rpy2\n",
      "\n",
      "installing the packages : git+https://git@github.com/JonasWallin/BayesFlow\n",
      "\n",
      "installing package for node004\n",
      "installing package for node003\n",
      "installing package for node002\n",
      "installing package for node001\n",
      "installing package for node005\n",
      "installing package for node006\n",
      "node004 is done\n",
      "node003 is done\n",
      "node002 is done\n",
      "node001 is done\n",
      "node005 is done\n",
      "node006 is done\n",
      "installing package for node002\n",
      "installing package for node001\n",
      "installing package for node003\n",
      "installing package for node004\n",
      "installing package for node005\n",
      "installing package for node006\n",
      "node002 is done\n",
      "node001 is done\n",
      "node003 is done\n",
      "node004 is done\n",
      "node005 is done\n",
      "node006 is done\n"
     ]
    },
    {
     "data": {
      "text/plain": [
       "0"
      ]
     },
     "execution_count": 4,
     "metadata": {},
     "output_type": "execute_result"
    }
   ],
   "source": [
    "PACKAGES_APT = [' libatlas3-base',\n",
    "                'libatlas-base-dev',\n",
    "                'python-dev', \n",
    "                'openmpi-bin', \n",
    "                'libopenmpi-dev', \n",
    "                'python-numpy',\n",
    "                'python-sklearn',\n",
    "               'python-matplotlib',\n",
    "               'git',\n",
    "                'python-scipy',\n",
    "               'r-base',\n",
    "               'r-base-core']\n",
    "PACKAGES_PIP = ['cython',\n",
    "                'mpi4py',\n",
    "                'simplejson',\n",
    "               'rpy2']\n",
    "\n",
    "#Adding later version of R\n",
    "#http://philipp-burckhardt.com/2014/05/25/installing-r-rstudio-on-ubuntu/\n",
    "command = 'sudo add-apt-repository \"deb http://cran.rstudio.com/bin/linux/ubuntu trusty/\"'\n",
    "linker.send_command_ssh(command = 'gpg --keyserver pgpkeys.mit.edu --recv-key 51716619E084DAB9')\n",
    "linker.send_command_ssh(command = 'gpg -a --export 51716619E084DAB9 | sudo apt-key add -')\n",
    "linker.send_command_ssh(command = command)\n",
    "\n",
    "\n",
    "\n",
    "linker.apt_install(PACKAGES_APT)\n",
    "\n",
    "#problem with memory installing scipy:\n",
    "#http://naokiwatanabe.blogspot.se/2014/12/install-numpy-schipy-matplotlib-and-etc.html\n",
    "linker.send_command_ssh(command = 'sudo /bin/dd if=/dev/zero of=/var/swap.1 bs=1M count=1024')\n",
    "linker.send_command_ssh(command = 'sudo /sbin/mkswap /var/swap.1')\n",
    "linker.send_command_ssh(command = 'sudo /sbin/swapon /var/swap.1')\n",
    "linker.pip_install('-U scipy')\n",
    "\n",
    "linker.send_command_ssh(command = 'sudo swapoff /var/swap.1')\n",
    "linker.send_command_ssh(command = 'sudo sudo rm /var/swap.1')\n",
    "\n",
    "\n",
    "\n",
    "linker.pip_install(PACKAGES_PIP)\n",
    "linker.pip_install(['git+https://git@github.com/JonasWallin/BayesFlow'])\n",
    "import os\n",
    "os.system('say \"your packages is downloaded\"')"
   ]
  },
  {
   "cell_type": "code",
   "execution_count": 5,
   "metadata": {
    "collapsed": false
   },
   "outputs": [
    {
     "name": "stdout",
     "output_type": "stream",
     "text": [
      "node001, sshing in  wget https://raw.githubusercontent.com/JonasWallin/BayesFlow/master/examples/article1/covs_.npy \n",
      "node001 done\n",
      "node002, sshing in  wget https://raw.githubusercontent.com/JonasWallin/BayesFlow/master/examples/article1/covs_.npy \n",
      "node002 done\n",
      "node003, sshing in  wget https://raw.githubusercontent.com/JonasWallin/BayesFlow/master/examples/article1/covs_.npy \n",
      "node003 done\n",
      "node004, sshing in  wget https://raw.githubusercontent.com/JonasWallin/BayesFlow/master/examples/article1/covs_.npy \n",
      "node004 done\n",
      "node005, sshing in  wget https://raw.githubusercontent.com/JonasWallin/BayesFlow/master/examples/article1/covs_.npy \n",
      "node005 done\n",
      "node006, sshing in  wget https://raw.githubusercontent.com/JonasWallin/BayesFlow/master/examples/article1/covs_.npy \n",
      "node006 done\n",
      "node001, sshing in  wget https://raw.githubusercontent.com/JonasWallin/BayesFlow/master/examples/article1/means_.npy \n",
      "node001 done\n",
      "node002, sshing in  wget https://raw.githubusercontent.com/JonasWallin/BayesFlow/master/examples/article1/means_.npy \n",
      "node002 done\n",
      "node003, sshing in  wget https://raw.githubusercontent.com/JonasWallin/BayesFlow/master/examples/article1/means_.npy \n",
      "node003 done\n",
      "node004, sshing in  wget https://raw.githubusercontent.com/JonasWallin/BayesFlow/master/examples/article1/means_.npy \n",
      "node004 done\n",
      "node005, sshing in  wget https://raw.githubusercontent.com/JonasWallin/BayesFlow/master/examples/article1/means_.npy \n",
      "node005 done\n",
      "node006, sshing in  wget https://raw.githubusercontent.com/JonasWallin/BayesFlow/master/examples/article1/means_.npy \n",
      "node006 done\n",
      "node001, sshing in  wget https://raw.githubusercontent.com/JonasWallin/BayesFlow/master/examples/article1/weights_.npy \n",
      "node001 done\n",
      "node002, sshing in  wget https://raw.githubusercontent.com/JonasWallin/BayesFlow/master/examples/article1/weights_.npy \n",
      "node002 done\n",
      "node003, sshing in  wget https://raw.githubusercontent.com/JonasWallin/BayesFlow/master/examples/article1/weights_.npy \n",
      "node003 done\n",
      "node004, sshing in  wget https://raw.githubusercontent.com/JonasWallin/BayesFlow/master/examples/article1/weights_.npy \n",
      "node004 done\n",
      "node005, sshing in  wget https://raw.githubusercontent.com/JonasWallin/BayesFlow/master/examples/article1/weights_.npy \n",
      "node005 done\n",
      "node006, sshing in  wget https://raw.githubusercontent.com/JonasWallin/BayesFlow/master/examples/article1/weights_.npy \n",
      "node006 done\n",
      "node001, sshing in  wget https://raw.githubusercontent.com/JonasWallin/BayesFlow/master/examples/article1/article_util.py \n",
      "node001 done\n",
      "node002, sshing in  wget https://raw.githubusercontent.com/JonasWallin/BayesFlow/master/examples/article1/article_util.py \n",
      "node002 done\n",
      "node003, sshing in  wget https://raw.githubusercontent.com/JonasWallin/BayesFlow/master/examples/article1/article_util.py \n",
      "node003 done\n",
      "node004, sshing in  wget https://raw.githubusercontent.com/JonasWallin/BayesFlow/master/examples/article1/article_util.py \n",
      "node004 done\n",
      "node005, sshing in  wget https://raw.githubusercontent.com/JonasWallin/BayesFlow/master/examples/article1/article_util.py \n",
      "node005 done\n",
      "node006, sshing in  wget https://raw.githubusercontent.com/JonasWallin/BayesFlow/master/examples/article1/article_util.py \n",
      "node006 done\n",
      "node001, sshing in  wget https://raw.githubusercontent.com/JonasWallin/BayesFlow/master/examples/article1/article_simulatedata.py \n",
      "node001 done\n",
      "node002, sshing in  wget https://raw.githubusercontent.com/JonasWallin/BayesFlow/master/examples/article1/article_simulatedata.py \n",
      "node002 done\n",
      "node003, sshing in  wget https://raw.githubusercontent.com/JonasWallin/BayesFlow/master/examples/article1/article_simulatedata.py \n",
      "node003 done\n",
      "node004, sshing in  wget https://raw.githubusercontent.com/JonasWallin/BayesFlow/master/examples/article1/article_simulatedata.py \n",
      "node004 done\n",
      "node005, sshing in  wget https://raw.githubusercontent.com/JonasWallin/BayesFlow/master/examples/article1/article_simulatedata.py \n",
      "node005 done\n",
      "node006, sshing in  wget https://raw.githubusercontent.com/JonasWallin/BayesFlow/master/examples/article1/article_simulatedata.py \n",
      "node006 done\n",
      "node001, sshing in  wget https://raw.githubusercontent.com/JonasWallin/BayesFlow/master/examples/article1/article_estimate_largerdata1_mpi.py \n",
      "node001 done\n",
      "node002, sshing in  wget https://raw.githubusercontent.com/JonasWallin/BayesFlow/master/examples/article1/article_estimate_largerdata1_mpi.py \n",
      "node002 done\n",
      "node003, sshing in  wget https://raw.githubusercontent.com/JonasWallin/BayesFlow/master/examples/article1/article_estimate_largerdata1_mpi.py \n",
      "node003 done\n",
      "node004, sshing in  wget https://raw.githubusercontent.com/JonasWallin/BayesFlow/master/examples/article1/article_estimate_largerdata1_mpi.py \n",
      "node004 done\n",
      "node005, sshing in  wget https://raw.githubusercontent.com/JonasWallin/BayesFlow/master/examples/article1/article_estimate_largerdata1_mpi.py \n",
      "node005 done\n",
      "node006, sshing in  wget https://raw.githubusercontent.com/JonasWallin/BayesFlow/master/examples/article1/article_estimate_largerdata1_mpi.py \n",
      "node006 done\n"
     ]
    },
    {
     "data": {
      "text/plain": [
       "0"
      ]
     },
     "execution_count": 5,
     "metadata": {},
     "output_type": "execute_result"
    }
   ],
   "source": [
    "linker.send_command_ssh( command = 'wget https://raw.githubusercontent.com/JonasWallin/BayesFlow/master/examples/article1/covs_.npy')\n",
    "linker.send_command_ssh( command = 'wget https://raw.githubusercontent.com/JonasWallin/BayesFlow/master/examples/article1/means_.npy')\n",
    "linker.send_command_ssh( command = 'wget https://raw.githubusercontent.com/JonasWallin/BayesFlow/master/examples/article1/weights_.npy')\n",
    "linker.send_command_ssh( command = 'wget https://raw.githubusercontent.com/JonasWallin/BayesFlow/master/examples/article1/article_util.py')\n",
    "linker.send_command_ssh( command = 'wget https://raw.githubusercontent.com/JonasWallin/BayesFlow/master/examples/article1/article_simulatedata.py')\n",
    "linker.send_command_ssh( command = 'wget https://raw.githubusercontent.com/JonasWallin/BayesFlow/master/examples/article1/article_estimate_largerdata1_mpi.py')"
   ]
  },
  {
   "cell_type": "code",
   "execution_count": 6,
   "metadata": {
    "collapsed": false
   },
   "outputs": [
    {
     "name": "stdout",
     "output_type": "stream",
     "text": [
      "node001, sshing in  mpirun -hostfile nodefile -n 192 python article_estimate_largerdata1_mpi.py \n",
      "node001 done\n",
      "copying simulation_result.npy to local computer .\n",
      "copying files to node001 done\n",
      "copying mus_sim.npy to local computer .\n",
      "copying files to node001 done\n",
      "copying sim_data.npy to local computer .\n",
      "copying files to node001 done\n"
     ]
    }
   ],
   "source": [
    "import numpy as np\n",
    "tot_process = np.sum([node['n_process'] for node in linker.nodes])\n",
    "command = 'mpirun -hostfile nodefile -n %d python article_estimate_largerdata1_mpi.py'%(tot_process)\n",
    "linker.send_command_ssh(nodes = 0, command = command)\n",
    "linker.copy_files_from_node('simulation_result.npy')\n",
    "linker.copy_files_from_node('mus_sim.npy')\n",
    "linker.copy_files_from_node('sim_data.npy')"
   ]
  },
  {
   "cell_type": "code",
   "execution_count": 10,
   "metadata": {
    "collapsed": false
   },
   "outputs": [
    {
     "name": "stdout",
     "output_type": "stream",
     "text": [
      "copying ../examples/article1/article_estimate_largerdata1_mpi.py to external ~/\n",
      "copying files to node009 done\n",
      "copying files to node010 done\n",
      "copying ../examples/article1/article_util.py to external ~/\n",
      "copying files to node009 done\n",
      "copying files to node010 done\n"
     ]
    }
   ],
   "source": [
    "linker.copy_files_to_nodes( file_name = '../examples/article1/article_estimate_largerdata1_mpi.py', destination='~/' )\n",
    "linker.copy_files_to_nodes( file_name = '../examples/article1/article_util.py', destination='~/' )"
   ]
  },
  {
   "cell_type": "code",
   "execution_count": 8,
   "metadata": {
    "collapsed": false
   },
   "outputs": [
    {
     "name": "stdout",
     "output_type": "stream",
     "text": [
      "ssh  -i ~/.ssh/mykeyABC.rsa -o 'StrictHostKeyChecking no'  ubuntu@ec2-54-84-172-61.compute-1.amazonaws.com\n"
     ]
    }
   ],
   "source": [
    "print(\"ssh  -i {keyloc} -o 'StrictHostKeyChecking no'  ubuntu@{hostname}\".format(\n",
    "\t\tkeyloc = linker.my_key_location,\n",
    "\t\thostname =  linker.nodes[0]['public_dns']))"
   ]
  },
  {
   "cell_type": "code",
   "execution_count": null,
   "metadata": {
    "collapsed": true
   },
   "outputs": [],
   "source": []
  }
 ],
 "metadata": {
  "kernelspec": {
   "display_name": "Python 2",
   "language": "python",
   "name": "python2"
  },
  "language_info": {
   "codemirror_mode": {
    "name": "ipython",
    "version": 2
   },
   "file_extension": ".py",
   "mimetype": "text/x-python",
   "name": "python",
   "nbconvert_exporter": "python",
   "pygments_lexer": "ipython2",
   "version": "2.7.10"
  }
 },
 "nbformat": 4,
 "nbformat_minor": 0
}
