{
 "cells": [
  {
   "cell_type": "markdown",
   "metadata": {},
   "source": [
    "#Running simple example through EC2 using spot pricing\n",
    "To work one need to have spot instances running"
   ]
  },
  {
   "cell_type": "code",
   "execution_count": 1,
   "metadata": {
    "collapsed": false
   },
   "outputs": [
    {
     "name": "stdout",
     "output_type": "stream",
     "text": [
      "Collecting git+https://git@github.com/JonasWallin/linkingEC2\n",
      "  Cloning https://git@github.com/JonasWallin/linkingEC2 to /var/folders/ct/zpjk2t696k5bv03sqq9xrpd00000gn/T/pip-Dc9NwP-build\n",
      "Requirement already up-to-date: boto in /Users/jonaswallin/anaconda/lib/python2.7/site-packages (from linkingEC2==0.1)\n",
      "Installing collected packages: linkingEC2\n",
      "  Found existing installation: linkingEC2 0.1\n",
      "    Uninstalling linkingEC2-0.1:\n",
      "      Successfully uninstalled linkingEC2-0.1\n",
      "  Running setup.py install for linkingEC2\n",
      "Successfully installed linkingEC2-0.1\n"
     ]
    }
   ],
   "source": [
    "%%bash\n",
    ". ~/.bashrc\n",
    "pip install  --upgrade git+https://git@github.com/JonasWallin/linkingEC2"
   ]
  },
  {
   "cell_type": "code",
   "execution_count": 2,
   "metadata": {
    "collapsed": true
   },
   "outputs": [],
   "source": [
    "from linkingEC2 import LinkingHandler\n",
    "from ConfigParser import ConfigParser\n",
    "\n",
    "config = ConfigParser()\n",
    "starfigconfig_folder = \"/Users/jonaswallin/.starcluster/\"\n",
    "config.read(starfigconfig_folder + \"config\")\n",
    "\n",
    "acess_key_id     = config.get('aws info', 'aws_access_key_id'    , 0)\n",
    "aws_secret_key   = config.get('aws info', 'aws_secret_access_key', 0)\n",
    "aws_region_name  = config.get('aws info', 'aws_region_name'      , 0)\n",
    "my_key_loc       = config.get('key mykeyABC', 'key_location',0)\n",
    "\n",
    "\n",
    "linker = LinkingHandler(aws_secret_access_key = aws_secret_key,\n",
    "                        aws_access_key_id     = acess_key_id,\n",
    "                        aws_region_name       = aws_region_name,\n",
    "                        key_location          = my_key_loc,\n",
    "                        key_name              = 'mykeyABC' )"
   ]
  },
  {
   "cell_type": "code",
   "execution_count": 3,
   "metadata": {
    "collapsed": false
   },
   "outputs": [
    {
     "name": "stdout",
     "output_type": "stream",
     "text": [
      "checking if ssh into node007 works:\n",
      "*\n",
      "checking if ssh into node008 works:\n",
      "*\n",
      "checking if ssh into node009 works:\n",
      "*\n",
      "checking if ssh into node010 works:\n",
      "*\n",
      "checking if ssh into node011 works:\n",
      "*\n",
      "checking if ssh into node012 works:\n",
      "*\n",
      "collecting node007 number of processes:done\n",
      "collecting node008 number of processes:done\n",
      "collecting node009 number of processes:done\n",
      "collecting node010 number of processes:done\n",
      "collecting node011 number of processes:done\n",
      "collecting node012 number of processes:done\n",
      "copying ~/.ssh/mykeyABC.rsa to external ~/.ssh/id_rsa\n",
      "copying files to node007 done\n",
      "copying files to node008 done\n",
      "copying files to node009 done\n",
      "copying files to node010 done\n",
      "copying files to node011 done\n",
      "copying files to node012 done\n",
      "disable StrictHostKeyChecking  in node007:appending to ~/nodefile in node007 done\n",
      "appending to /etc/hosts in node007 done\n"
     ]
    }
   ],
   "source": [
    "linker.connect_spot_instances()"
   ]
  },
  {
   "cell_type": "code",
   "execution_count": 4,
   "metadata": {
    "collapsed": false
   },
   "outputs": [
    {
     "name": "stdout",
     "output_type": "stream",
     "text": [
      "node007, sshing in  gpg --keyserver pgpkeys.mit.edu --recv-key 51716619E084DAB9 \n",
      "node007 done\n",
      "node008, sshing in  gpg --keyserver pgpkeys.mit.edu --recv-key 51716619E084DAB9 \n",
      "node008 done\n",
      "node009, sshing in  gpg --keyserver pgpkeys.mit.edu --recv-key 51716619E084DAB9 \n",
      "node009 done\n",
      "node010, sshing in  gpg --keyserver pgpkeys.mit.edu --recv-key 51716619E084DAB9 \n",
      "node010 done\n",
      "node011, sshing in  gpg --keyserver pgpkeys.mit.edu --recv-key 51716619E084DAB9 \n",
      "node011 done\n",
      "node012, sshing in  gpg --keyserver pgpkeys.mit.edu --recv-key 51716619E084DAB9 \n",
      "node012 done\n",
      "node007, sshing in  gpg -a --export 51716619E084DAB9 | sudo apt-key add - \n",
      "node007 done\n",
      "node008, sshing in  gpg -a --export 51716619E084DAB9 | sudo apt-key add - \n",
      "node008 done\n",
      "node009, sshing in  gpg -a --export 51716619E084DAB9 | sudo apt-key add - \n",
      "node009 done\n",
      "node010, sshing in  gpg -a --export 51716619E084DAB9 | sudo apt-key add - \n",
      "node010 done\n",
      "node011, sshing in  gpg -a --export 51716619E084DAB9 | sudo apt-key add - \n",
      "node011 done\n",
      "node012, sshing in  gpg -a --export 51716619E084DAB9 | sudo apt-key add - \n",
      "node012 done\n",
      "node007, sshing in  sudo add-apt-repository \"deb http://cran.rstudio.com/bin/linux/ubuntu trusty/\" \n",
      "node007 done\n",
      "node008, sshing in  sudo add-apt-repository \"deb http://cran.rstudio.com/bin/linux/ubuntu trusty/\" \n",
      "node008 done\n",
      "node009, sshing in  sudo add-apt-repository \"deb http://cran.rstudio.com/bin/linux/ubuntu trusty/\" \n",
      "node009 done\n",
      "node010, sshing in  sudo add-apt-repository \"deb http://cran.rstudio.com/bin/linux/ubuntu trusty/\" \n",
      "node010 done\n",
      "node011, sshing in  sudo add-apt-repository \"deb http://cran.rstudio.com/bin/linux/ubuntu trusty/\" \n",
      "node011 done\n",
      "node012, sshing in  sudo add-apt-repository \"deb http://cran.rstudio.com/bin/linux/ubuntu trusty/\" \n",
      "node012 done\n",
      "installing the packages :  libatlas3-base libatlas-base-dev python-dev openmpi-bin libopenmpi-dev python-numpy python-sklearn python-matplotlib git python-scipy r-base r-base-core\n",
      "\n",
      "update apt-get for node008\n",
      "update apt-get for node007\n",
      "update apt-get for node011\n",
      "update apt-get for node009\n",
      "update apt-get for node010\n",
      "update apt-get for node012\n",
      "node008 is done\n",
      "node007 is done\n",
      "node011 is done\n",
      "node009 is done\n",
      "node010 is done\n",
      "node012 is done\n",
      "upgrade apt-get for node008\n",
      "upgrade apt-get for node007\n",
      "upgrade apt-get for node011\n",
      "upgrade apt-get for node009\n",
      "upgrade apt-get for node010\n",
      "upgrade apt-get for node012\n",
      "node008 is done\n",
      "node007 is done\n",
      "node011 is done\n",
      "node009 is done\n",
      "node010 is done\n",
      "node012 is done\n",
      "node007, sshing in  sudo /bin/dd if=/dev/zero of=/var/swap.1 bs=1M count=1024 \n",
      "installing package for node008\n",
      "installing package for node007\n",
      "installing package for node009\n",
      "installing package for node010\n",
      "installing package for node011\n",
      "installing package for node012\n",
      "node008 is done\n",
      "node007 is done\n",
      "node009 is done\n",
      "node010 is done\n",
      "node011 is done\n",
      "node012 is done\n",
      "node007 done\n",
      "node008, sshing in  sudo /bin/dd if=/dev/zero of=/var/swap.1 bs=1M count=1024 \n",
      "node008 done\n",
      "node009, sshing in  sudo /bin/dd if=/dev/zero of=/var/swap.1 bs=1M count=1024 \n",
      "node009 done\n",
      "node010, sshing in  sudo /bin/dd if=/dev/zero of=/var/swap.1 bs=1M count=1024 \n",
      "node010 done\n",
      "node011, sshing in  sudo /bin/dd if=/dev/zero of=/var/swap.1 bs=1M count=1024 \n",
      "node011 done\n",
      "node012, sshing in  sudo /bin/dd if=/dev/zero of=/var/swap.1 bs=1M count=1024 \n",
      "node012 done\n",
      "node007, sshing in  sudo /sbin/mkswap /var/swap.1 \n",
      "node007 done\n",
      "node008, sshing in  sudo /sbin/mkswap /var/swap.1 \n",
      "node008 done\n",
      "node009, sshing in  sudo /sbin/mkswap /var/swap.1 \n",
      "node009 done\n",
      "node010, sshing in  sudo /sbin/mkswap /var/swap.1 \n",
      "node010 done\n",
      "node011, sshing in  sudo /sbin/mkswap /var/swap.1 \n",
      "node011 done\n",
      "node012, sshing in  sudo /sbin/mkswap /var/swap.1 \n",
      "node012 done\n",
      "node007, sshing in  sudo /sbin/swapon /var/swap.1 \n",
      "node007 done\n",
      "node008, sshing in  sudo /sbin/swapon /var/swap.1 \n",
      "node008 done\n",
      "node009, sshing in  sudo /sbin/swapon /var/swap.1 \n",
      "node009 done\n",
      "node010, sshing in  sudo /sbin/swapon /var/swap.1 \n",
      "node010 done\n",
      "node011, sshing in  sudo /sbin/swapon /var/swap.1 \n",
      "node011 done\n",
      "node012, sshing in  sudo /sbin/swapon /var/swap.1 \n",
      "node012 done\n",
      "installing the packages : python-pip\n",
      "\n",
      "installing the packages : -U scipy\n",
      "\n",
      "installing package for node007\n",
      "installing package for node009\n",
      "installing package for node010\n",
      "installing package for node011\n",
      "installing package for node008\n",
      "installing package for node012\n",
      "node007 is done\n",
      "node009 is done\n",
      "node010 is done\n",
      "node011 is done\n",
      "node008 is done\n",
      "node012 is done\n",
      "node007, sshing in  sudo swapoff /var/swap.1 \n",
      "installing package for node009\n",
      "installing package for node008\n",
      "installing package for node007\n",
      "installing package for node010\n",
      "installing package for node011\n",
      "installing package for node012\n",
      "node009 is done\n",
      "node008 is done\n",
      "node007 is done\n",
      "node010 is done\n",
      "node011 is done\n",
      "node012 is done\n",
      "node007 done\n",
      "node008, sshing in  sudo swapoff /var/swap.1 \n",
      "node008 done\n",
      "node009, sshing in  sudo swapoff /var/swap.1 \n",
      "node009 done\n",
      "node010, sshing in  sudo swapoff /var/swap.1 \n",
      "node010 done\n",
      "node011, sshing in  sudo swapoff /var/swap.1 \n",
      "node011 done\n",
      "node012, sshing in  sudo swapoff /var/swap.1 \n",
      "node012 done\n",
      "node007, sshing in  sudo sudo rm /var/swap.1 \n",
      "node007 done\n",
      "node008, sshing in  sudo sudo rm /var/swap.1 \n",
      "node008 done\n",
      "node009, sshing in  sudo sudo rm /var/swap.1 \n",
      "node009 done\n",
      "node010, sshing in  sudo sudo rm /var/swap.1 \n",
      "node010 done\n",
      "node011, sshing in  sudo sudo rm /var/swap.1 \n",
      "node011 done\n",
      "node012, sshing in  sudo sudo rm /var/swap.1 \n",
      "node012 done\n",
      "installing the packages : cython mpi4py simplejson rpy2\n",
      "\n",
      "installing the packages : git+https://git@github.com/JonasWallin/BayesFlow\n",
      "\n",
      "installing package for node009\n",
      "installing package for node008\n",
      "installing package for node007\n",
      "installing package for node010\n",
      "installing package for node011\n",
      "installing package for node012\n",
      "node009 is done\n",
      "node008 is done\n",
      "node007 is done\n",
      "node010 is done\n",
      "node011 is done\n",
      "node012 is done\n",
      "installing package for node008\n",
      "installing package for node007\n",
      "installing package for node009\n",
      "installing package for node010\n",
      "installing package for node011\n",
      "installing package for node012\n",
      "node008 is done\n",
      "node007 is done\n",
      "node009 is done\n",
      "node010 is done\n",
      "node011 is done\n",
      "node012 is done\n"
     ]
    },
    {
     "data": {
      "text/plain": [
       "0"
      ]
     },
     "execution_count": 4,
     "metadata": {},
     "output_type": "execute_result"
    }
   ],
   "source": [
    "PACKAGES_APT = [' libatlas3-base',\n",
    "                'libatlas-base-dev',\n",
    "                'python-dev', \n",
    "                'openmpi-bin', \n",
    "                'libopenmpi-dev', \n",
    "                'python-numpy',\n",
    "                'python-sklearn',\n",
    "               'python-matplotlib',\n",
    "               'git',\n",
    "                'python-scipy',\n",
    "               'r-base',\n",
    "               'r-base-core']\n",
    "PACKAGES_PIP = ['cython',\n",
    "                'mpi4py',\n",
    "                'simplejson',\n",
    "               'rpy2']\n",
    "\n",
    "#Adding later version of R\n",
    "#http://philipp-burckhardt.com/2014/05/25/installing-r-rstudio-on-ubuntu/\n",
    "command = 'sudo add-apt-repository \"deb http://cran.rstudio.com/bin/linux/ubuntu trusty/\"'\n",
    "linker.send_command_ssh(command = 'gpg --keyserver pgpkeys.mit.edu --recv-key 51716619E084DAB9')\n",
    "linker.send_command_ssh(command = 'gpg -a --export 51716619E084DAB9 | sudo apt-key add -')\n",
    "linker.send_command_ssh(command = command)\n",
    "\n",
    "\n",
    "\n",
    "linker.apt_install(PACKAGES_APT)\n",
    "\n",
    "#problem with memory installing scipy:\n",
    "#http://naokiwatanabe.blogspot.se/2014/12/install-numpy-schipy-matplotlib-and-etc.html\n",
    "linker.send_command_ssh(command = 'sudo /bin/dd if=/dev/zero of=/var/swap.1 bs=1M count=1024')\n",
    "linker.send_command_ssh(command = 'sudo /sbin/mkswap /var/swap.1')\n",
    "linker.send_command_ssh(command = 'sudo /sbin/swapon /var/swap.1')\n",
    "linker.pip_install('-U scipy')\n",
    "\n",
    "linker.send_command_ssh(command = 'sudo swapoff /var/swap.1')\n",
    "linker.send_command_ssh(command = 'sudo sudo rm /var/swap.1')\n",
    "\n",
    "\n",
    "\n",
    "linker.pip_install(PACKAGES_PIP)\n",
    "linker.pip_install(['git+https://git@github.com/JonasWallin/BayesFlow'])\n",
    "import os\n",
    "os.system('say \"your packages is downloaded\"')"
   ]
  },
  {
   "cell_type": "code",
   "execution_count": 5,
   "metadata": {
    "collapsed": false
   },
   "outputs": [
    {
     "name": "stdout",
     "output_type": "stream",
     "text": [
      "node007, sshing in  wget https://raw.githubusercontent.com/JonasWallin/BayesFlow/master/examples/article1/covs_.npy \n",
      "node007 done\n",
      "node008, sshing in  wget https://raw.githubusercontent.com/JonasWallin/BayesFlow/master/examples/article1/covs_.npy \n",
      "node008 done\n",
      "node009, sshing in  wget https://raw.githubusercontent.com/JonasWallin/BayesFlow/master/examples/article1/covs_.npy \n",
      "node009 done\n",
      "node010, sshing in  wget https://raw.githubusercontent.com/JonasWallin/BayesFlow/master/examples/article1/covs_.npy \n",
      "node010 done\n",
      "node011, sshing in  wget https://raw.githubusercontent.com/JonasWallin/BayesFlow/master/examples/article1/covs_.npy \n",
      "node011 done\n",
      "node012, sshing in  wget https://raw.githubusercontent.com/JonasWallin/BayesFlow/master/examples/article1/covs_.npy \n",
      "node012 done\n",
      "node007, sshing in  wget https://raw.githubusercontent.com/JonasWallin/BayesFlow/master/examples/article1/means_.npy \n",
      "node007 done\n",
      "node008, sshing in  wget https://raw.githubusercontent.com/JonasWallin/BayesFlow/master/examples/article1/means_.npy \n",
      "node008 done\n",
      "node009, sshing in  wget https://raw.githubusercontent.com/JonasWallin/BayesFlow/master/examples/article1/means_.npy \n",
      "node009 done\n",
      "node010, sshing in  wget https://raw.githubusercontent.com/JonasWallin/BayesFlow/master/examples/article1/means_.npy \n",
      "node010 done\n",
      "node011, sshing in  wget https://raw.githubusercontent.com/JonasWallin/BayesFlow/master/examples/article1/means_.npy \n",
      "node011 done\n",
      "node012, sshing in  wget https://raw.githubusercontent.com/JonasWallin/BayesFlow/master/examples/article1/means_.npy \n",
      "node012 done\n",
      "node007, sshing in  wget https://raw.githubusercontent.com/JonasWallin/BayesFlow/master/examples/article1/weights_.npy \n",
      "node007 done\n",
      "node008, sshing in  wget https://raw.githubusercontent.com/JonasWallin/BayesFlow/master/examples/article1/weights_.npy \n",
      "node008 done\n",
      "node009, sshing in  wget https://raw.githubusercontent.com/JonasWallin/BayesFlow/master/examples/article1/weights_.npy \n",
      "node009 done\n",
      "node010, sshing in  wget https://raw.githubusercontent.com/JonasWallin/BayesFlow/master/examples/article1/weights_.npy \n",
      "node010 done\n",
      "node011, sshing in  wget https://raw.githubusercontent.com/JonasWallin/BayesFlow/master/examples/article1/weights_.npy \n",
      "node011 done\n",
      "node012, sshing in  wget https://raw.githubusercontent.com/JonasWallin/BayesFlow/master/examples/article1/weights_.npy \n",
      "node012 done\n",
      "node007, sshing in  wget https://raw.githubusercontent.com/JonasWallin/BayesFlow/master/examples/article1/article_util.py \n",
      "node007 done\n",
      "node008, sshing in  wget https://raw.githubusercontent.com/JonasWallin/BayesFlow/master/examples/article1/article_util.py \n",
      "node008 done\n",
      "node009, sshing in  wget https://raw.githubusercontent.com/JonasWallin/BayesFlow/master/examples/article1/article_util.py \n",
      "node009 done\n",
      "node010, sshing in  wget https://raw.githubusercontent.com/JonasWallin/BayesFlow/master/examples/article1/article_util.py \n",
      "node010 done\n",
      "node011, sshing in  wget https://raw.githubusercontent.com/JonasWallin/BayesFlow/master/examples/article1/article_util.py \n",
      "node011 done\n",
      "node012, sshing in  wget https://raw.githubusercontent.com/JonasWallin/BayesFlow/master/examples/article1/article_util.py \n",
      "node012 done\n",
      "node007, sshing in  wget https://raw.githubusercontent.com/JonasWallin/BayesFlow/master/examples/article1/article_simulatedata.py \n",
      "node007 done\n",
      "node008, sshing in  wget https://raw.githubusercontent.com/JonasWallin/BayesFlow/master/examples/article1/article_simulatedata.py \n",
      "node008 done\n",
      "node009, sshing in  wget https://raw.githubusercontent.com/JonasWallin/BayesFlow/master/examples/article1/article_simulatedata.py \n",
      "node009 done\n",
      "node010, sshing in  wget https://raw.githubusercontent.com/JonasWallin/BayesFlow/master/examples/article1/article_simulatedata.py \n",
      "node010 done\n",
      "node011, sshing in  wget https://raw.githubusercontent.com/JonasWallin/BayesFlow/master/examples/article1/article_simulatedata.py \n",
      "node011 done\n",
      "node012, sshing in  wget https://raw.githubusercontent.com/JonasWallin/BayesFlow/master/examples/article1/article_simulatedata.py \n",
      "node012 done\n",
      "node007, sshing in  wget https://raw.githubusercontent.com/JonasWallin/BayesFlow/master/examples/article1/article_estimate_largerdata1_mpi.py \n",
      "node007 done\n",
      "node008, sshing in  wget https://raw.githubusercontent.com/JonasWallin/BayesFlow/master/examples/article1/article_estimate_largerdata1_mpi.py \n",
      "node008 done\n",
      "node009, sshing in  wget https://raw.githubusercontent.com/JonasWallin/BayesFlow/master/examples/article1/article_estimate_largerdata1_mpi.py \n",
      "node009 done\n",
      "node010, sshing in  wget https://raw.githubusercontent.com/JonasWallin/BayesFlow/master/examples/article1/article_estimate_largerdata1_mpi.py \n",
      "node010 done\n",
      "node011, sshing in  wget https://raw.githubusercontent.com/JonasWallin/BayesFlow/master/examples/article1/article_estimate_largerdata1_mpi.py \n",
      "node011 done\n",
      "node012, sshing in  wget https://raw.githubusercontent.com/JonasWallin/BayesFlow/master/examples/article1/article_estimate_largerdata1_mpi.py \n",
      "node012 done\n"
     ]
    },
    {
     "data": {
      "text/plain": [
       "0"
      ]
     },
     "execution_count": 5,
     "metadata": {},
     "output_type": "execute_result"
    }
   ],
   "source": [
    "linker.send_command_ssh( command = 'wget https://raw.githubusercontent.com/JonasWallin/BayesFlow/master/examples/article1/covs_.npy')\n",
    "linker.send_command_ssh( command = 'wget https://raw.githubusercontent.com/JonasWallin/BayesFlow/master/examples/article1/means_.npy')\n",
    "linker.send_command_ssh( command = 'wget https://raw.githubusercontent.com/JonasWallin/BayesFlow/master/examples/article1/weights_.npy')\n",
    "linker.send_command_ssh( command = 'wget https://raw.githubusercontent.com/JonasWallin/BayesFlow/master/examples/article1/article_util.py')\n",
    "linker.send_command_ssh( command = 'wget https://raw.githubusercontent.com/JonasWallin/BayesFlow/master/examples/article1/article_simulatedata.py')\n",
    "linker.send_command_ssh( command = 'wget https://raw.githubusercontent.com/JonasWallin/BayesFlow/master/examples/article1/article_estimate_largerdata1_mpi.py')"
   ]
  },
  {
   "cell_type": "code",
   "execution_count": 12,
   "metadata": {
    "collapsed": false
   },
   "outputs": [
    {
     "name": "stdout",
     "output_type": "stream",
     "text": [
      "node007, sshing in  mpirun -hostfile nodefile -n 192 python article_estimate_largerdata1_mpi.py \n",
      "node007 done\n",
      "copying simulation_result.npy to local computer .\n",
      "copying files to node007 done\n",
      "copying mus_sim.npy to local computer .\n",
      "copying files to node007 done\n",
      "copying sim_data.npy to local computer .\n",
      "copying files to node007 done\n"
     ]
    }
   ],
   "source": [
    "import numpy as np\n",
    "tot_process = np.sum([node['n_process'] for node in linker.nodes])\n",
    "command = 'mpirun -hostfile nodefile -n %d python article_estimate_largerdata1_mpi.py'%(tot_process)\n",
    "linker.send_command_ssh(nodes = 0, command = command)\n",
    "linker.copy_files_from_node('simulation_result.npy')\n",
    "linker.copy_files_from_node('mus_sim.npy')\n",
    "linker.copy_files_from_node('sim_data.npy')"
   ]
  },
  {
   "cell_type": "code",
   "execution_count": 10,
   "metadata": {
    "collapsed": false
   },
   "outputs": [
    {
     "name": "stdout",
     "output_type": "stream",
     "text": [
      "copying ../examples/article1/article_estimate_largerdata1_mpi.py to external ~/\n",
      "copying files to node009 done\n",
      "copying files to node010 done\n",
      "copying ../examples/article1/article_util.py to external ~/\n",
      "copying files to node009 done\n",
      "copying files to node010 done\n"
     ]
    }
   ],
   "source": [
    "linker.copy_files_to_nodes( file_name = '../examples/article1/article_estimate_largerdata1_mpi.py', destination='~/' )\n",
    "linker.copy_files_to_nodes( file_name = '../examples/article1/article_util.py', destination='~/' )"
   ]
  },
  {
   "cell_type": "code",
   "execution_count": 10,
   "metadata": {
    "collapsed": false
   },
   "outputs": [
    {
     "name": "stdout",
     "output_type": "stream",
     "text": [
      "ssh  -i ~/.ssh/mykeyABC.rsa -o 'StrictHostKeyChecking no'  ubuntu@ec2-54-173-159-50.compute-1.amazonaws.com\n"
     ]
    }
   ],
   "source": [
    "print(\"ssh  -i {keyloc} -o 'StrictHostKeyChecking no'  ubuntu@{hostname}\".format(\n",
    "\t\tkeyloc = linker.my_key_location,\n",
    "\t\thostname =  linker.nodes[0]['public_dns']))"
   ]
  },
  {
   "cell_type": "code",
   "execution_count": 7,
   "metadata": {
    "collapsed": false
   },
   "outputs": [
    {
     "name": "stdout",
     "output_type": "stream",
     "text": [
      "node007, sshing in  rm ~/article_simulatedata.py \n",
      "node007 done\n",
      "node008, sshing in  rm ~/article_simulatedata.py \n",
      "node008 done\n",
      "node009, sshing in  rm ~/article_simulatedata.py \n",
      "node009 done\n",
      "node010, sshing in  rm ~/article_simulatedata.py \n",
      "node010 done\n",
      "node011, sshing in  rm ~/article_simulatedata.py \n",
      "node011 done\n",
      "node012, sshing in  rm ~/article_simulatedata.py \n",
      "node012 done\n"
     ]
    },
    {
     "data": {
      "text/plain": [
       "0"
      ]
     },
     "execution_count": 7,
     "metadata": {},
     "output_type": "execute_result"
    }
   ],
   "source": [
    "linker.send_command_ssh( command = 'rm ~/article_simulatedata.py')"
   ]
  },
  {
   "cell_type": "code",
   "execution_count": 8,
   "metadata": {
    "collapsed": false
   },
   "outputs": [
    {
     "name": "stdout",
     "output_type": "stream",
     "text": [
      "node007, sshing in  wget https://raw.githubusercontent.com/JonasWallin/BayesFlow/master/examples/article1/article_simulatedata.py \n",
      "node007 done\n",
      "node008, sshing in  wget https://raw.githubusercontent.com/JonasWallin/BayesFlow/master/examples/article1/article_simulatedata.py \n",
      "node008 done\n",
      "node009, sshing in  wget https://raw.githubusercontent.com/JonasWallin/BayesFlow/master/examples/article1/article_simulatedata.py \n",
      "node009 done\n",
      "node010, sshing in  wget https://raw.githubusercontent.com/JonasWallin/BayesFlow/master/examples/article1/article_simulatedata.py \n",
      "node010 done\n",
      "node011, sshing in  wget https://raw.githubusercontent.com/JonasWallin/BayesFlow/master/examples/article1/article_simulatedata.py \n",
      "node011 done\n",
      "node012, sshing in  wget https://raw.githubusercontent.com/JonasWallin/BayesFlow/master/examples/article1/article_simulatedata.py \n",
      "node012 done\n"
     ]
    },
    {
     "data": {
      "text/plain": [
       "0"
      ]
     },
     "execution_count": 8,
     "metadata": {},
     "output_type": "execute_result"
    }
   ],
   "source": [
    "\n",
    "linker.send_command_ssh( command = 'wget https://raw.githubusercontent.com/JonasWallin/BayesFlow/master/examples/article1/article_simulatedata.py')"
   ]
  },
  {
   "cell_type": "code",
   "execution_count": null,
   "metadata": {
    "collapsed": true
   },
   "outputs": [],
   "source": []
  }
 ],
 "metadata": {
  "kernelspec": {
   "display_name": "Python 2",
   "language": "python",
   "name": "python2"
  },
  "language_info": {
   "codemirror_mode": {
    "name": "ipython",
    "version": 2
   },
   "file_extension": ".py",
   "mimetype": "text/x-python",
   "name": "python",
   "nbconvert_exporter": "python",
   "pygments_lexer": "ipython2",
   "version": "2.7.10"
  }
 },
 "nbformat": 4,
 "nbformat_minor": 0
}
